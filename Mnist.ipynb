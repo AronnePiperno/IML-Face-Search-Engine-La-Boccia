{
  "nbformat": 4,
  "nbformat_minor": 0,
  "metadata": {
    "accelerator": "GPU",
    "colab": {
      "provenance": [],
      "collapsed_sections": [
        "2DtAgGFhCE_s"
      ],
      "include_colab_link": true
    },
    "kernelspec": {
      "display_name": "Python 3",
      "language": "python",
      "name": "python3"
    },
    "language_info": {
      "codemirror_mode": {
        "name": "ipython",
        "version": 3
      },
      "file_extension": ".py",
      "mimetype": "text/x-python",
      "name": "python",
      "nbconvert_exporter": "python",
      "pygments_lexer": "ipython3",
      "version": "3.7.9"
    },
    "gpuClass": "standard"
  },
  "cells": [
    {
      "cell_type": "markdown",
      "metadata": {
        "id": "view-in-github",
        "colab_type": "text"
      },
      "source": [
        "<a href=\"https://colab.research.google.com/github/AronnePiperno/IML-Face-Search-Engine-La-Boccia/blob/master/Mnist.ipynb\" target=\"_parent\"><img src=\"https://colab.research.google.com/assets/colab-badge.svg\" alt=\"Open In Colab\"/></a>"
      ]
    },
    {
      "cell_type": "code",
      "metadata": {
        "id": "_OLqgNgCGO9F"
      },
      "source": [
        "import torchvision.transforms as T\n",
        "def get_data(batch_size, test_batch_size=256):\n",
        "  \n",
        "  # Prepare data transformations and then combine them sequentially\n",
        "  transform = list()\n",
        "  transform.append(T.ToTensor())                            # converts Numpy to Pytorch Tensor\n",
        "  transform.append(T.Normalize(mean=[0.5], std=[0.5]))      # Normalizes the Tensors between [-1, 1]\n",
        "  transform = T.Compose(transform)                          # Composes the above transformations into one.\n",
        "\n",
        "  # Load data\n",
        "  full_training_data = torchvision.datasets.MNIST('./data', train=True, transform=transform, download=True) \n",
        "  test_data = torchvision.datasets.MNIST('./data', train=False, transform=transform, download=True) \n",
        "  \n",
        "\n",
        "  # Create train and validation splits\n",
        "  num_samples = len(full_training_data)\n",
        "  training_samples = int(num_samples*0.7+1)\n",
        "  validation_samples = num_samples - training_samples\n",
        "\n",
        "  training_data, validation_data = torch.utils.data.random_split(full_training_data, [training_samples, validation_samples])\n",
        "\n",
        "  # Initialize dataloaders\n",
        "  train_loader = torch.utils.data.DataLoader(training_data, batch_size, shuffle=True, num_workers=4)\n",
        "  val_loader = torch.utils.data.DataLoader(validation_data, test_batch_size, shuffle=False, num_workers=4)\n",
        "  test_loader = torch.utils.data.DataLoader(test_data, test_batch_size, shuffle=False, num_workers=4)\n",
        "  \n",
        "  return train_loader, val_loader, test_loader\n"
      ],
      "execution_count": 11,
      "outputs": []
    },
    {
      "cell_type": "code",
      "metadata": {
        "id": "b4MAGF_LKEQ5"
      },
      "source": [
        "# Our network\n",
        "import torch\n",
        "class MLP(torch.nn.Module):\n",
        "  def __init__(self, input_dim, hidden_dim, output_dim):\n",
        "    super(MLP, self).__init__()\n",
        "    \n",
        "    self.input_to_hidden = torch.nn.Linear(input_dim, hidden_dim)\n",
        "    self.hidden_to_output = torch.nn.Linear(hidden_dim, output_dim)\n",
        "    self.activation = torch.nn.Sigmoid()\n",
        "\n",
        "  def forward(self, x):\n",
        "    # Puts the output in (batch_size, input_dim) format\n",
        "    x = x.view(x.shape[0],-1)\n",
        "\n",
        "    # Forward input through the layers\n",
        "    x = self.input_to_hidden(x)\n",
        "    x = self.activation(x)\n",
        "    x = self.hidden_to_output(x)\n",
        "    return x"
      ],
      "execution_count": 4,
      "outputs": []
    },
    {
      "cell_type": "markdown",
      "metadata": {
        "id": "TZMmfyFNKWGY"
      },
      "source": [
        "## Loss/cost function\n",
        "For training the network, we obviously need a loss function. The task is classification with multiple classes, thus a proper loss could be a cross-entropy with softmax. We can again use `torch.nn` which contains several losses, among which `torch.nn.CrossEntropyLoss`. Notice that this loss already contains the softmax activation, thus we do not need to apply the softmax to the output of our network."
      ]
    },
    {
      "cell_type": "code",
      "metadata": {
        "id": "SFnlG_hCLpqJ"
      },
      "source": [
        "def get_cost_function():\n",
        "  cost_function = torch.nn.CrossEntropyLoss()\n",
        "  return cost_function"
      ],
      "execution_count": 5,
      "outputs": []
    },
    {
      "cell_type": "markdown",
      "metadata": {
        "id": "cJRtK9IcLsNB"
      },
      "source": [
        "## Optimizer\n",
        "Now we must devise a way to update the parameters of our network. This can be easily held out by having a look at [`torch.optim`](https://pytorch.org/docs/stable/optim.html) which contains a large variety of optimizers."
      ]
    },
    {
      "cell_type": "code",
      "metadata": {
        "id": "MeW_KX80Nwrr"
      },
      "source": [
        "def get_optimizer(net, lr, wd, momentum):\n",
        "  optimizer = torch.optim.SGD(net.parameters(), lr=lr, weight_decay=wd, momentum=momentum)\n",
        "  return optimizer"
      ],
      "execution_count": 6,
      "outputs": []
    },
    {
      "cell_type": "markdown",
      "metadata": {
        "id": "VpZ8snpiYRFK"
      },
      "source": [
        "## Train and test functions\n",
        "We are ready to merge everything by creating a training and test functions. Both of them must:\n",
        "\n",
        "1.   Loop over the data (exploiting the dataloader, which is just an iterator)\n",
        "2.   Forward the data through the network\n",
        "3.  Comparing the output with the target labels for computing either the loss (train), the accuracy (test) or both.\n",
        "\n",
        "Additionally, during training we must:\n",
        "\n",
        "\n",
        "1.   Compute the gradient with the backward pass (`loss.backward()`)\n",
        "2.   Using the optimizer to update the weights (`optimizer.step()`)\n",
        "3.   Cleaning the gradient of the weights in order to not accumulating it (`optimizer.zero_grad()`)\n",
        "\n",
        "With these steps in mind, we are ready to define everything.\n",
        "\n",
        "We define:\n",
        "*   **Iterations:** the number of gradients updates we are doing (i.e. number of times we call the `optimizer.step()`).\n",
        "*   **Epoch:**number of times we iterate over the whole dataset.\n",
        "\n",
        "Lets implement the training loop:"
      ]
    },
    {
      "cell_type": "code",
      "metadata": {
        "id": "jHrTkmnWaZnp"
      },
      "source": [
        "def train_one_epoch(net, data_loader, optimizer, cost_function, device='cuda'):\n",
        "  samples = 0.\n",
        "  cumulative_loss = 0.\n",
        "  cumulative_accuracy = 0.\n",
        "\n",
        "  \n",
        "  net.train() # Strictly needed if network contains layers which has different behaviours between train and test\n",
        "  for batch_idx, (inputs, targets) in enumerate(data_loader):\n",
        "    # Load data into GPU\n",
        "    inputs = inputs.to(device)\n",
        "    targets = targets.to(device)\n",
        "      \n",
        "    # Forward pass\n",
        "    outputs = net(inputs)\n",
        "\n",
        "    # Apply the loss\n",
        "    loss = cost_function(outputs,targets)\n",
        "\n",
        "    # Backward pass\n",
        "    loss.backward()\n",
        "    \n",
        "    # Update parameters\n",
        "    optimizer.step()\n",
        "    \n",
        "    # Reset the gradients\n",
        "    optimizer.zero_grad()\n",
        "\n",
        "    # Better print something, no?\n",
        "    samples += inputs.shape[0]\n",
        "    cumulative_loss += loss.item()\n",
        "    \n",
        "    _, predicted = outputs.max(dim=1) # max returns maximum_value, index_of_maximum_value\n",
        "    cumulative_accuracy += predicted.eq(targets).sum().item()\n",
        "\n",
        "  return cumulative_loss/samples, cumulative_accuracy/samples*100"
      ],
      "execution_count": 7,
      "outputs": []
    },
    {
      "cell_type": "markdown",
      "source": [
        "While training, we need to test our model on the validaiton set to be sure we are improving over there as well"
      ],
      "metadata": {
        "id": "ahCaPuG307cE"
      }
    },
    {
      "cell_type": "code",
      "source": [
        "def validation_step(net, data_loader, cost_function, device='cuda'):\n",
        "  samples = 0.\n",
        "  cumulative_loss = 0.\n",
        "  cumulative_accuracy = 0.\n",
        "\n",
        "  net.eval() # Strictly needed if network contains layers which has different behaviours between train and test\n",
        "  with torch.no_grad():\n",
        "    for batch_idx, (inputs, targets) in enumerate(data_loader):\n",
        "      # Load data into GPU\n",
        "      inputs = inputs.to(device)\n",
        "      targets = targets.to(device)\n",
        "        \n",
        "      # Forward pass\n",
        "      outputs = net(inputs)\n",
        "\n",
        "      # Apply the loss\n",
        "      loss = cost_function(outputs, targets)\n",
        "\n",
        "      # Better print something\n",
        "      samples+=inputs.shape[0]\n",
        "      cumulative_loss += loss.item() # Note: the .item() is needed to extract scalars from tensors\n",
        "      _, predicted = outputs.max(1)\n",
        "      cumulative_accuracy += predicted.eq(targets).sum().item()\n",
        "\n",
        "  return cumulative_loss/samples, cumulative_accuracy/samples*100\n"
      ],
      "metadata": {
        "id": "sNg3V8k81E7N"
      },
      "execution_count": 8,
      "outputs": []
    },
    {
      "cell_type": "markdown",
      "metadata": {
        "id": "6QOcUCgwbers"
      },
      "source": [
        "## Wrapping everything up\n",
        "Finally, we need a main function which initializes everything + the needed hyperparameters and loops over multiple epochs (printing the results)."
      ]
    },
    {
      "cell_type": "code",
      "metadata": {
        "id": "x7eUGpq2b5YX"
      },
      "source": [
        "import torchvision\n",
        "import torch\n",
        "\n",
        "def main(batch_size=128, input_dim=28*28, hidden_dim=100, output_dim=10, device='cuda:0', learning_rate=0.01, weight_decay=0.000001, momentum=0.9, epochs=10):\n",
        "\n",
        "  # Gets DataLoaders\n",
        "  train_loader, val_loader, test_loader = get_data(batch_size)\n",
        "  \n",
        "  # Istantiates the network and moves it to the chosen device (GPU)\n",
        "  net = MLP(input_dim, hidden_dim, output_dim).to(device)\n",
        "  \n",
        "  # Instantiates the optimizer\n",
        "  optimizer = get_optimizer(net, learning_rate, weight_decay, momentum)\n",
        "  \n",
        "  # Creates the cost function\n",
        "  cost_function = get_cost_function()\n",
        "\n",
        "  n_iterations = 0\n",
        "  # For each epoch, train the network and then compute evaluation results\n",
        "  for e in range(epochs):\n",
        "    train_loss, train_accuracy = train_one_epoch(net, train_loader, optimizer, cost_function)\n",
        "    val_loss, val_accuracy = validation_step(net, val_loader, cost_function)\n",
        "\n",
        "    print('Epoch: {:d}'.format(e+1))\n",
        "    print('\\t Training loss {:.5f}, Training accuracy {:.2f}'.format(train_loss, train_accuracy))\n",
        "    print('\\t Validation loss {:.5f}, Validation accuracy {:.2f}'.format(val_loss, val_accuracy))\n",
        "    print('-----------------------------------------------------')"
      ],
      "execution_count": 9,
      "outputs": []
    },
    {
      "cell_type": "code",
      "source": [
        "main()"
      ],
      "metadata": {
        "colab": {
          "base_uri": "https://localhost:8080/"
        },
        "id": "mzcQEworzhGW",
        "outputId": "32d3b212-0e63-4d4c-cbf4-6e7918bd00d2"
      },
      "execution_count": 12,
      "outputs": [
        {
          "output_type": "stream",
          "name": "stdout",
          "text": [
            "Epoch: 1\n",
            "\t Training loss 0.00855, Training accuracy 74.75\n",
            "\t Validation loss 0.00207, Validation accuracy 86.72\n",
            "-----------------------------------------------------\n",
            "Epoch: 2\n",
            "\t Training loss 0.00337, Training accuracy 88.51\n",
            "\t Validation loss 0.00154, Validation accuracy 89.39\n",
            "-----------------------------------------------------\n",
            "Epoch: 3\n",
            "\t Training loss 0.00274, Training accuracy 90.08\n",
            "\t Validation loss 0.00134, Validation accuracy 90.20\n",
            "-----------------------------------------------------\n",
            "Epoch: 4\n",
            "\t Training loss 0.00245, Training accuracy 90.99\n",
            "\t Validation loss 0.00122, Validation accuracy 91.12\n",
            "-----------------------------------------------------\n",
            "Epoch: 5\n",
            "\t Training loss 0.00226, Training accuracy 91.68\n",
            "\t Validation loss 0.00116, Validation accuracy 91.38\n",
            "-----------------------------------------------------\n",
            "Epoch: 6\n",
            "\t Training loss 0.00212, Training accuracy 92.18\n",
            "\t Validation loss 0.00109, Validation accuracy 92.08\n",
            "-----------------------------------------------------\n",
            "Epoch: 7\n",
            "\t Training loss 0.00199, Training accuracy 92.59\n",
            "\t Validation loss 0.00104, Validation accuracy 92.61\n",
            "-----------------------------------------------------\n",
            "Epoch: 8\n",
            "\t Training loss 0.00189, Training accuracy 93.03\n",
            "\t Validation loss 0.00100, Validation accuracy 92.78\n",
            "-----------------------------------------------------\n",
            "Epoch: 9\n",
            "\t Training loss 0.00180, Training accuracy 93.51\n",
            "\t Validation loss 0.00096, Validation accuracy 92.88\n",
            "-----------------------------------------------------\n",
            "Epoch: 10\n",
            "\t Training loss 0.00171, Training accuracy 93.73\n",
            "\t Validation loss 0.00091, Validation accuracy 93.52\n",
            "-----------------------------------------------------\n"
          ]
        }
      ]
    },
    {
      "cell_type": "code",
      "source": [
        "batch_size=128 \n",
        "input_dim=28*28\n",
        "hidden_dim=100\n",
        "output_dim=10\n",
        "device='cuda:0'\n",
        "learning_rate=0.01\n",
        "weight_decay=0.000001\n",
        "momentum=0.9\n",
        "epochs=10\n",
        "\n",
        "\n",
        "# Gets DataLoaders\n",
        "train_loader, val_loader, test_loader = get_data(batch_size)\n",
        "\n",
        "# Istantiates the network and moves it to the chosen device (GPU)\n",
        "net = MLP(input_dim, hidden_dim, output_dim).to(device)\n",
        "\n",
        "# Instantiates the optimizer\n",
        "optimizer = torch.optim.Adam(net.parameters())\n",
        "\n",
        "# Creates the cost function\n",
        "cost_function = get_cost_function()\n",
        "\n",
        "n_iterations = 0\n",
        "# For each epoch, train the network and then compute evaluation results\n",
        "for e in range(epochs):\n",
        "  train_loss, train_accuracy = train_one_epoch(net, train_loader, optimizer, cost_function)\n",
        "  val_loss, val_accuracy = validation_step(net, val_loader, cost_function)\n",
        "\n",
        "  print('Epoch: {:d}'.format(e+1))\n",
        "  print('\\t Training loss {:.5f}, Training accuracy {:.2f}'.format(train_loss, train_accuracy))\n",
        "  print('\\t Validation loss {:.5f}, Validation accuracy {:.2f}'.format(val_loss, val_accuracy))\n",
        "  print('-----------------------------------------------------')"
      ],
      "metadata": {
        "id": "y2G7kTTX2IRL",
        "colab": {
          "base_uri": "https://localhost:8080/"
        },
        "outputId": "d6152a54-4689-47ff-c955-112c45d7a61c"
      },
      "execution_count": 13,
      "outputs": [
        {
          "output_type": "stream",
          "name": "stdout",
          "text": [
            "Epoch: 1\n",
            "\t Training loss 0.00586, Training accuracy 83.46\n",
            "\t Validation loss 0.00148, Validation accuracy 89.88\n",
            "-----------------------------------------------------\n",
            "Epoch: 2\n",
            "\t Training loss 0.00250, Training accuracy 91.26\n",
            "\t Validation loss 0.00112, Validation accuracy 91.92\n",
            "-----------------------------------------------------\n",
            "Epoch: 3\n",
            "\t Training loss 0.00200, Training accuracy 92.78\n",
            "\t Validation loss 0.00094, Validation accuracy 93.14\n",
            "-----------------------------------------------------\n",
            "Epoch: 4\n",
            "\t Training loss 0.00171, Training accuracy 93.86\n",
            "\t Validation loss 0.00084, Validation accuracy 93.77\n",
            "-----------------------------------------------------\n",
            "Epoch: 5\n",
            "\t Training loss 0.00150, Training accuracy 94.58\n",
            "\t Validation loss 0.00075, Validation accuracy 94.42\n",
            "-----------------------------------------------------\n",
            "Epoch: 6\n",
            "\t Training loss 0.00133, Training accuracy 95.21\n",
            "\t Validation loss 0.00067, Validation accuracy 94.96\n",
            "-----------------------------------------------------\n",
            "Epoch: 7\n",
            "\t Training loss 0.00119, Training accuracy 95.67\n",
            "\t Validation loss 0.00063, Validation accuracy 95.26\n",
            "-----------------------------------------------------\n",
            "Epoch: 8\n",
            "\t Training loss 0.00107, Training accuracy 96.15\n",
            "\t Validation loss 0.00058, Validation accuracy 95.68\n",
            "-----------------------------------------------------\n",
            "Epoch: 9\n",
            "\t Training loss 0.00097, Training accuracy 96.55\n",
            "\t Validation loss 0.00056, Validation accuracy 95.92\n",
            "-----------------------------------------------------\n",
            "Epoch: 10\n",
            "\t Training loss 0.00090, Training accuracy 96.85\n",
            "\t Validation loss 0.00053, Validation accuracy 96.09\n",
            "-----------------------------------------------------\n"
          ]
        }
      ]
    },
    {
      "cell_type": "code",
      "source": [
        "from google.colab import drive\n",
        "drive.mount('/content/drive')"
      ],
      "metadata": {
        "colab": {
          "base_uri": "https://localhost:8080/"
        },
        "id": "5-4MDfZ3jWK1",
        "outputId": "11c0d038-2e4e-4d54-a84e-354a93615f19"
      },
      "execution_count": 16,
      "outputs": [
        {
          "output_type": "stream",
          "name": "stdout",
          "text": [
            "Mounted at /content/drive\n"
          ]
        }
      ]
    },
    {
      "cell_type": "code",
      "source": [
        "torch.save(net.state_dict(), \"model.ckpt\")"
      ],
      "metadata": {
        "id": "GD7HYxb97BYq"
      },
      "execution_count": 14,
      "outputs": []
    },
    {
      "cell_type": "code",
      "source": [
        "net.eval()"
      ],
      "metadata": {
        "colab": {
          "base_uri": "https://localhost:8080/"
        },
        "id": "dnJXbICJLFMq",
        "outputId": "83b5cc59-b948-4be8-e5d2-72acaa32d7f5"
      },
      "execution_count": 15,
      "outputs": [
        {
          "output_type": "execute_result",
          "data": {
            "text/plain": [
              "MLP(\n",
              "  (input_to_hidden): Linear(in_features=784, out_features=100, bias=True)\n",
              "  (hidden_to_output): Linear(in_features=100, out_features=10, bias=True)\n",
              "  (activation): Sigmoid()\n",
              ")"
            ]
          },
          "metadata": {},
          "execution_count": 15
        }
      ]
    },
    {
      "cell_type": "code",
      "source": [],
      "metadata": {
        "id": "eLqB-wWcLFAh"
      },
      "execution_count": null,
      "outputs": []
    },
    {
      "cell_type": "code",
      "source": [
        "from PIL import Image\n",
        "import os\n",
        "from torchvision import transforms\n",
        "\n",
        "transform = transforms.ToTensor()\n",
        "\n",
        "\n",
        "results = {}\n",
        "for file in os.listdir('/content/drive/MyDrive/mnist/images/'):\n",
        "    img_name = file.split('.')[0]\n",
        "    image = Image.open(os.path.join('/content/drive/MyDrive/mnist/images/', file))\n",
        "    image = transform(image)\n",
        "    image = image.to(device)\n",
        "    output = net(image)\n",
        "    #print(output)\n",
        "    pred = output.argmax(dim=1, keepdim=True)[0]\n",
        "    results[img_name] = pred.item()\n",
        "\n",
        "print(results)"
      ],
      "metadata": {
        "colab": {
          "base_uri": "https://localhost:8080/"
        },
        "id": "Udcp5YwKJY6n",
        "outputId": "a1ec928a-65d9-4bdb-e948-127afa072bc4"
      },
      "execution_count": 28,
      "outputs": [
        {
          "output_type": "stream",
          "name": "stdout",
          "text": [
            "{'8376': 1, '5501': 6, '5504': 3, '5630': 1, '7957': 4, '7030': 7, '7882': 0, '5427': 2, '5526': 0, '6945': 8, '5983': 2, '7422': 1, '7888': 4, '7184': 2, '7139': 0, '7268': 7, '6496': 9, '6880': 5, '6613': 6, '5593': 0, '7077': 5, '6038': 6, '7910': 4, '6411': 9, '5307': 0, '7175': 0, '6853': 7, '6084': 2, '8197': 6, '5408': 3, '6914': 9, '5842': 9, '7738': 8, '8500': 4, '6710': 9, '5717': 2, '7031': 0, '8436': 9, '7039': 6, '5647': 8, '6681': 3, '5678': 8, '7414': 5, '7942': 9, '5723': 2, '5662': 5, '6803': 5, '8383': 9, '6610': 9, '6733': 1, '5447': 9, '5494': 2, '6158': 7, '5476': 4, '6761': 4, '7364': 2, '7388': 5, '5321': 0, '8375': 9, '5917': 1, '6250': 0, '7111': 7, '5518': 5, '5339': 5, '5229': 5, '5496': 7, '8492': 2, '6225': 2, '6075': 3, '7829': 3, '5485': 7, '8002': 9, '5859': 1, '6308': 1, '6468': 1, '5322': 4, '5275': 5, '5858': 7, '8486': 8, '6992': 7, '6654': 8, '5508': 3, '6918': 3, '6568': 4, '7761': 6, '7677': 7, '6414': 5, '6755': 8, '7659': 5, '7436': 3, '7737': 0, '7362': 7, '5449': 2, '5405': 0, '7669': 4, '7490': 7, '5320': 0, '6228': 9, '5688': 9, '6460': 4, '5461': 1, '7423': 4, '7804': 3, '5522': 8, '7418': 1, '5844': 6, '8245': 2, '5380': 8, '6238': 8, '6692': 9, '6844': 2, '5972': 3, '7201': 4, '5889': 1, '6606': 7, '7727': 0, '5624': 5, '8410': 8, '5607': 4, '8057': 0, '6236': 5, '5642': 8, '7846': 0, '6991': 5, '6115': 1, '8489': 3, '5650': 8, '6035': 0, '6470': 0, '6409': 9, '5777': 8, '7766': 7, '8319': 9, '7456': 4, '6473': 0, '6269': 7, '6792': 6, '8233': 1, '7589': 4, '5598': 5, '6781': 0, '8154': 3, '7698': 5, '6334': 6, '6356': 1, '6757': 1, '6227': 3, '7247': 1, '6085': 3, '7335': 6, '7855': 0, '6090': 8, '8053': 9, '5223': 5, '6854': 4, '7510': 4, '5827': 0, '6450': 8, '5631': 4, '7958': 5, '7656': 3, '8294': 8, '6343': 8, '6983': 4, '6979': 0, '7549': 6, '5221': 6, '5567': 0, '8382': 0, '7584': 7, '6855': 7, '5460': 1, '7539': 2, '5370': 1, '8479': 9, '7818': 4, '8175': 7, '6583': 0, '6458': 7, '7049': 0, '7006': 3, '7765': 8, '7378': 8, '5787': 9, '7062': 0, '6809': 1, '7985': 7, '6547': 4, '6820': 2, '6148': 5, '7647': 7, '7260': 7, '5224': 3, '5560': 9, '5439': 4, '8414': 0, '6834': 8, '8162': 3, '8189': 4, '6864': 8, '8370': 3, '8426': 9, '7137': 4, '5234': 7, '5807': 5, '6173': 2, '6397': 1, '8359': 0, '7558': 0, '6888': 9, '6149': 7, '5903': 7, '6828': 2, '6364': 7, '5218': 6, '7410': 0, '6997': 4, '7246': 9, '5747': 3, '8205': 4, '7048': 1, '6632': 9, '8286': 3, '5832': 4, '5378': 6, '7312': 3, '6128': 6, '6490': 7, '5744': 8, '7746': 9, '7608': 1, '5667': 2, '6304': 8, '6588': 0, '8494': 3, '6177': 3, '7785': 2, '5892': 3, '5345': 4, '6423': 2, '6328': 0, '5472': 3, '8047': 2, '7913': 0, '6682': 9, '8264': 4, '8077': 0, '7696': 4, '6480': 2, '5814': 3, '7537': 0, '8021': 0, '5645': 9, '5743': 6, '6831': 2, '6614': 2, '6408': 1, '7875': 3, '7005': 1, '7185': 3, '7274': 5, '7928': 8, '6020': 6, '5565': 9, '6825': 7, '8422': 9, '8032': 3, '7084': 0, '8293': 3, '7835': 0, '6443': 9, '5316': 1, '6999': 4, '7014': 1, '7739': 2, '6370': 3, '6971': 0, '6152': 4, '8357': 8, '7334': 7, '5918': 0, '6209': 8, '6693': 6, '7970': 6, '6436': 9, '5790': 9, '5318': 1, '6184': 3, '7884': 9, '7907': 0, '7926': 8, '6969': 1, '5555': 3, '8165': 2, '8291': 6, '5749': 2, '5382': 3, '5514': 1, '6942': 5, '7411': 1, '8031': 2, '7419': 7, '5847': 0, '7491': 0, '7936': 3, '8110': 7, '6242': 7, '7581': 1, '7025': 9, '6805': 7, '8185': 5, '5265': 6, '8473': 5, '6673': 1, '6933': 6, '6330': 2, '6229': 6, '7323': 1, '5327': 1, '8333': 6, '5915': 1, '5451': 5, '5936': 9, '5696': 4, '6248': 8, '7337': 0, '7217': 1, '6277': 5, '5900': 4, '8265': 7, '7872': 8, '6736': 3, '5350': 1, '6194': 3, '6320': 1, '6415': 5, '7474': 5, '6005': 1, '6603': 9, '7579': 9, '6987': 6, '5435': 0, '7577': 5, '8018': 6, '5425': 7, '6889': 8, '6483': 5, '7153': 4, '5429': 9, '6523': 8, '7470': 3, '7831': 3, '7998': 7, '5379': 8, '6875': 3, '5245': 3, '7198': 8, '5644': 8, '8313': 7, '5580': 9, '7681': 6, '7117': 3, '7147': 2, '6319': 0, '8034': 5, '6433': 4, '6612': 8, '6957': 3, '5387': 8, '7431': 3, '5957': 3, '8009': 8, '5813': 9, '6192': 1, '8329': 4, '7494': 4, '8072': 3, '7981': 3, '5399': 1, '7437': 5, '6912': 2, '7173': 1, '5845': 7, '7096': 4, '6694': 8, '6281': 2, '7496': 9, '7863': 9, '8093': 9, '6351': 0, '8073': 6, '7245': 2, '7239': 6, '7115': 2, '6725': 8, '5374': 5, '5532': 7, '8441': 6, '5373': 9, '7990': 8, '6961': 1, '5329': 3, '5566': 1, '5913': 3, '6998': 9, '7135': 2, '5638': 3, '6059': 3, '6525': 5, '8478': 6, '8423': 6, '5894': 9, '6785': 4, '7564': 2, '6762': 7, '7254': 9, '6335': 7, '6175': 4, '6729': 1, '6385': 3, '7868': 0, '8231': 1, '7773': 2, '6508': 9, '8407': 3, '6896': 6, '7924': 7, '5780': 3, '6779': 0, '5354': 6, '5592': 0, '5568': 6, '6001': 8, '5249': 0, '6635': 2, '8358': 9, '8447': 5, '7154': 2, '6721': 2, '7671': 0, '5776': 1, '8253': 2, '6264': 0, '7169': 4, '7905': 3, '6838': 8, '6607': 2, '6898': 8, '6134': 6, '5457': 8, '7433': 8, '7742': 5, '5605': 2, '7376': 4, '8346': 3, '6726': 1, '6699': 4, '7939': 6, '8176': 4, '7880': 6, '5822': 4, '5241': 0, '7313': 8, '6974': 4, '6618': 1, '7296': 7, '8229': 1, '8166': 1, '8101': 9, '7104': 3, '7632': 7, '8397': 3, '8445': 5, '7266': 2, '5462': 8, '6097': 0, '6139': 3, '7465': 0, '5611': 8, '8450': 2, '7694': 8, '7892': 9, '8290': 3, '8046': 8, '6268': 4, '8427': 1, '5312': 4, '6230': 9, '7207': 3, '7459': 9, '5244': 0, '6626': 4, '6399': 6, '8400': 4, '6927': 0, '7923': 8, '5811': 1, '6021': 4, '5866': 7, '5689': 1, '5490': 1, '7505': 0, '6611': 5, '8430': 3, '9066': 6, '8915': 2, '9789': 4, '9708': 4, '9904': 2, '9554': 9, '8763': 0, '9008': 0, '8657': 0, '9180': 1, '8742': 7, '8539': 5, '9190': 1, '9028': 9, '9913': 2, '9317': 6, '9067': 7, '9391': 5, '9151': 7, '9025': 8, '9525': 4, '9344': 4, '9459': 0, '8515': 6, '8753': 3, '9912': 1, '8825': 7, '8667': 8, '9889': 3, '9700': 2, '8865': 0, '9328': 7, '8632': 5, '9492': 4, '8652': 5, '9395': 1, '8916': 3, '9094': 9, '9731': 7, '8548': 0, '9270': 7, '9684': 7, '9887': 8, '8800': 2, '9624': 3, '9603': 2, '8665': 5, '9548': 3, '9289': 5, '9105': 0, '8806': 8, '8729': 1, '8608': 7, '8618': 8, '8971': 1, '8927': 8, '8935': 9, '8838': 2, '9873': 4, '8920': 9, '9359': 2, '9895': 7, '8970': 3, '9193': 4, '8828': 6, '9343': 6, '9387': 0, '9797': 3, '8639': 3, '9558': 3, '8535': 0, '9743': 7, '9772': 1, '8668': 6, '9331': 5, '9348': 1, '9132': 5, '8525': 7, '8932': 8, '9957': 7, '9209': 2, '8747': 5, '8719': 2, '9174': 0, '9508': 0, '9574': 8, '8824': 6, '9408': 9, '9583': 5, '9702': 5, '9378': 1, '9863': 8, '8741': 5, '9892': 8, '8989': 4, '9960': 4, '8697': 6, '8839': 9, '9031': 7, '8551': 3, '9903': 1, '9995': 2, '9218': 9, '8829': 4, '9406': 4, '9967': 8, '9092': 8, '9254': 9, '9880': 2, '9616': 5, '9622': 1, '9954': 2, '9695': 8, '8940': 5, '8762': 9, '9276': 4, '9082': 2, '9577': 2, '9204': 7, '9221': 0, '9663': 0, '9818': 0, '9894': 7, '8734': 7, '8547': 8, '9137': 0, '9152': 4, '9338': 5, '8986': 1, '9194': 5, '9935': 7, '8914': 1, '9078': 8, '8917': 4, '8973': 2, '9847': 2, '9834': 8, '9572': 8, '9397': 9, '9065': 5, '8689': 8, '9466': 9, '8805': 7, '9453': 4, '9592': 4, '8720': 1, '8683': 2, '9733': 9, '8603': 3, '8770': 4, '9611': 0, '9299': 9, '9496': 8, '9231': 3, '8715': 1, '9571': 9, '8963': 8, '9365': 3, '9876': 1, '9307': 8, '8656': 5, '9801': 0, '9586': 7, '8572': 6, '9234': 5, '8754': 4, '9546': 7, '9741': 9, '8886': 4, '9388': 1, '8732': 6, '8505': 8, '9671': 5, '8911': 7, '8857': 8, '9488': 0, '9752': 2, '8592': 2, '8778': 8, '8619': 0, '9955': 1, '9649': 1, '9330': 8, '8695': 4, '9669': 4, '9294': 7, '9676': 9, '8998': 9, '9701': 9, '8726': 8, '9757': 0, '8959': 7, '9314': 7, '8688': 7, '9931': 1, '9595': 2, '8889': 2, '8859': 0, '9062': 2, '8978': 0, '9556': 1, '9510': 2, '8976': 1, '9791': 0, '8588': 6, '9591': 1, '9313': 1, '8923': 2, '8556': 8, '8666': 1, '8521': 2, '9120': 1, '9228': 5, '8752': 0, '9568': 6, '8520': 9, '9186': 7, '9832': 2, '9940': 6, '9291': 1, '9883': 3, '8607': 3, '8725': 8, '9362': 9, '8772': 0, '8750': 9, '8510': 7, '9886': 6, '9922': 4, '9374': 7, '9881': 3, '9946': 1, '8600': 1, '9648': 0, '9376': 9, '9428': 3, '9210': 6, '9781': 7, '9172': 7, '9104': 4, '8871': 7, '8606': 7, '9650': 7, '8507': 5, '9511': 3, '9604': 3, '9490': 2, '8969': 2, '8581': 3, '9501': 3, '8948': 5, '9460': 3, '9901': 9, '8845': 0, '9813': 4, '9108': 7, '8718': 7, '8654': 7, '9936': 8, '9569': 2, '9201': 2, '8724': 1, '9875': 8, '8523': 9, '9064': 4, '9099': 4, '8730': 0, '8530': 8, '9216': 9, '9621': 0, '9697': 3, '8949': 9, '9034': 4, '9033': 4, '9647': 0, '9737': 1, '8569': 2, '9479': 3, '9824': 8, '9992': 9, '8655': 3, '9452': 8, '9667': 8, '9807': 8, '8626': 4, '9891': 9, '9316': 3, '8564': 6, '9765': 7, '9251': 6, '8739': 6, '9683': 4, '9806': 7, '9850': 0, '9249': 1, '9014': 6, '9116': 8, '9296': 0, '8609': 8, '9279': 7, '9093': 9, '9278': 6, '9826': 0, '8991': 0, '9727': 3, '8585': 8, '8783': 5, '9704': 0, '8756': 8, '9713': 9, '9425': 0, '8664': 4, '9799': 1, '9386': 9, '9167': 0, '8640': 9, '9247': 6, '9722': 8, '9385': 8, '9500': 2, '8928': 9, '9003': 1, '9261': 3, '9748': 8, '9320': 4, '8909': 5, '8691': 0, '8628': 6, '9696': 2, '9045': 2, '8661': 8, '8508': 3, '8960': 4, '8897': 9, '9134': 0, '9081': 1, '9843': 9, '8516': 6, '9200': 1, '9310': 0, '8582': 4, '8870': 2, '9301': 1, '9980': 3, '9897': 0, '8517': 6, '9004': 0, '8790': 4, '9953': 6, '9440': 0, '9981': 6, '9979': 7, '9919': 7, '9059': 3, '9625': 4, '9594': 1, '9589': 6, '9796': 1, '9119': 5, '9517': 9, '9107': 8, '9402': 8, '9774': 1, '8860': 3, '9950': 1, '9739': 0, '8771': 6, '9241': 1, '9022': 3, '8924': 3, '9792': 9, '8678': 7, '8841': 9, '9916': 9, '9282': 1, '9080': 0, '9522': 7, '9345': 1, '9170': 9, '9956': 1, '8595': 0, '9495': 7, '9230': 0, '9758': 3, '8749': 7, '9290': 5, '9184': 5, '9943': 3, '9071': 8, '9205': 8, '8863': 5, '9403': 6, '8814': 6, '9318': 2, '9795': 1, '9997': 4, '9530': 9, '9073': 3, '9292': 9, '9689': 1, '9435': 1, '8862': 1, '8578': 5, '8711': 5, '9252': 9, '9223': 0, '8966': 2, '9361': 6, '9418': 8, '9181': 2, '8755': 4, '9802': 1, '9779': 0, '8794': 2, '8594': 2, '8717': 9, '9855': 2, '8830': 2, '9311': 0, '9952': 0, '8990': 6, '9775': 6, '8610': 4, '8900': 9, '9158': 0, '8744': 6, '9224': 4, '9351': 2, '8938': 1, '9000': 7, '9322': 8, '9588': 5, '9629': 8, '8861': 4, '9542': 0, '9227': 3, '9246': 2, '9444': 1, '8809': 1, '8552': 4, '8658': 1, '9192': 3, '9354': 8, '9736': 6, '9283': 3, '9472': 9, '9545': 5, '9103': 4, '8882': 9, '8676': 5, '8893': 9, '8566': 8, '9659': 9, '9547': 2, '8934': 8, '8906': 9, '9812': 3, '9793': 6, '8670': 9, '9776': 6, '9360': 5, '8962': 9, '9155': 1, '9163': 3, '9655': 3, '9139': 8, '9303': 2, '9188': 9, '9052': 0, '8705': 9, '9044': 7, '9965': 3, '9911': 0, '9814': 5, '8590': 9, '9375': 8, '9844': 1, '8527': 4, '8612': 2, '9333': 4, '9442': 2, '8782': 9, '9010': 2, '9138': 6, '9828': 3, '9327': 7, '9350': 4, '9654': 3, '8910': 3, '9706': 2, '8596': 9, '9436': 0, '9948': 0, '9037': 0, '9990': 7, '9601': 0, '3366': 4, '3666': 9, '2588': 7, '2930': 3, '5151': 4, '5206': 5, '2484': 7, '2868': 1, '3735': 0, '2054': 9, '4489': 9, '2370': 0, '3674': 3, '2969': 5, '3446': 0, '2367': 6, '3773': 2, '4156': 3, '2929': 9, '4028': 7, '3106': 2, '4757': 0, '3920': 7, '2259': 9, '2003': 5, '3167': 3, '4675': 0, '4528': 3, '1955': 8, '3587': 9, '3069': 4, '5171': 6, '2222': 3, '2271': 8, '2052': 8, '3997': 7, '1977': 6, '4511': 9, '2106': 0, '2865': 3, '2667': 8, '3567': 8, '4857': 0, '2390': 2, '4601': 4, '4679': 9, '3975': 3, '2306': 4, '4029': 4, '4668': 2, '4493': 7, '2441': 3, '2665': 7, '4303': 1, '2343': 1, '3466': 8, '2977': 2, '3530': 4, '4615': 4, '3509': 8, '4337': 1, '2782': 6, '4323': 5, '2381': 8, '4020': 8, '4381': 5, '4983': 3, '2444': 1, '4478': 8, '3484': 3, '1864': 4, '4761': 8, '1881': 9, '2074': 4, '4438': 4, '4563': 1, '4991': 7, '2395': 3, '2057': 6, '2159': 5, '4199': 9, '2315': 1, '4737': 8, '3747': 1, '4981': 2, '3507': 9, '3364': 8, '4650': 0, '3253': 1, '2909': 5, '2351': 3, '3953': 3, '3141': 6, '2622': 7, '3047': 2, '5092': 1, '2995': 8, '4836': 3, '3081': 2, '4103': 2, '2245': 1, '2564': 7, '4922': 8, '4482': 2, '4037': 6, '2177': 8, '5088': 6, '4231': 8, '4589': 1, '3358': 0, '4357': 7, '2701': 4, '3207': 2, '5061': 8, '3128': 2, '4076': 9, '4892': 5, '4078': 3, '5195': 4, '2007': 4, '4535': 3, '3376': 9, '2466': 6, '2655': 1, '2192': 3, '5216': 2, '4776': 0, '2796': 6, '4410': 9, '3938': 4, '3414': 3, '2791': 6, '4455': 8, '3791': 9, '3732': 8, '2038': 8, '4245': 9, '4400': 9, '2246': 8, '4169': 1, '4716': 2, '4909': 1, '4244': 3, '2331': 6, '2400': 5, '4995': 2, '3671': 6, '3638': 1, '4569': 5, '2503': 2, '3059': 7, '3683': 6, '4100': 2, '2382': 8, '2843': 7, '2610': 8, '3814': 5, '4747': 7, '2902': 1, '2195': 7, '2303': 3, '5062': 3, '4880': 8, '5160': 5, '2790': 5, '3112': 8, '5165': 0, '4689': 5, '4325': 9, '2231': 6, '1986': 1, '2298': 8, '4625': 2, '2215': 5, '2146': 8, '4695': 4, '2334': 7, '2889': 4, '2200': 2, '2213': 8, '2711': 6, '4147': 1, '4503': 2, '4762': 3, '4262': 1, '2310': 9, '4732': 1, '2647': 3, '2155': 0, '5128': 1, '3619': 5, '3220': 5, '4222': 3, '3836': 9, '4748': 8, '4760': 7, '4954': 2, '4031': 3, '2743': 5, '4955': 7, '3795': 3, '3163': 8, '4654': 7, '2340': 4, '3126': 1, '4266': 4, '3887': 8, '4565': 6, '4413': 6, '2532': 6, '2661': 1, '4674': 1, '3776': 8, '3616': 7, '2251': 4, '2144': 6, '2745': 3, '3162': 7, '2161': 9, '3410': 9, '3168': 9, '2932': 0, '4311': 3, '3881': 9, '4006': 1, '2740': 9, '5143': 3, '3871': 8, '4731': 7, '3808': 3, '3957': 5, '2301': 7, '3003': 1, '3603': 6, '4348': 0, '3840': 9, '3222': 6, '4353': 0, '4594': 2, '3800': 6, '4614': 0, '2476': 5, '4140': 2, '2404': 4, '4585': 9, '4552': 3, '3651': 1, '2243': 7, '2755': 9, '2346': 5, '4280': 9, '2431': 3, '4081': 6, '2031': 3, '4265': 8, '4301': 9, '3778': 5, '2556': 2, '3805': 0, '2482': 7, '4523': 3, '4174': 9, '2974': 1, '5161': 6, '2604': 3, '4092': 8, '3287': 9, '2550': 8, '3869': 4, '4662': 9, '3284': 8, '3453': 7, '3760': 9, '4187': 2, '5094': 7, '3877': 5, '1931': 5, '3962': 3, '4708': 1, '1998': 9, '2147': 9, '3506': 5, '2859': 8, '3511': 2, '4255': 5, '2864': 2, '2658': 4, '5179': 7, '3345': 5, '3703': 2, '3103': 7, '1871': 2, '3883': 0, '4867': 5, '2328': 0, '3710': 0, '2202': 4, '4288': 3, '2687': 0, '5126': 4, '3774': 0, '3816': 8, '2454': 8, '4610': 9, '3170': 0, '4938': 7, '4061': 7, '4429': 8, '3562': 1, '2505': 7, '3110': 3, '4015': 9, '4004': 3, '4130': 7, '2420': 9, '4466': 6, '4768': 4, '1965': 2, '2624': 3, '4611': 0, '2975': 8, '4905': 2, '4304': 1, '1861': 1, '4900': 7, '3472': 9, '5106': 9, '2904': 2, '2044': 7, '5063': 4, '2100': 5, '4517': 2, '3565': 8, '3476': 3, '4101': 9, '3053': 5, '3992': 9, '4403': 0, '3298': 4, '2027': 1, '4113': 2, '4046': 4, '4038': 2, '2769': 9, '2261': 1, '3551': 4, '4715': 7, '5080': 9, '4681': 9, '3308': 7, '1967': 5, '4492': 3, '4721': 4, '2637': 9, '3950': 9, '4573': 2, '2229': 3, '4591': 6, '5103': 8, '4047': 9, '2329': 0, '4801': 2, '2895': 8, '2283': 1, '2935': 8, '3724': 0, '3627': 8, '2397': 2, '4950': 3, '3318': 2, '2754': 6, '3904': 2, '2450': 3, '2230': 3, '3381': 3, '2614': 8, '2378': 0, '5127': 2, '3085': 3, '4687': 1, '5012': 6, '7369': 8, '5445': 5, '7989': 0, '6418': 2, '5707': 9, '5884': 6, '7783': 1, '7964': 9, '8014': 3, '5266': 2, '7661': 1, '7800': 2, '7397': 5, '7122': 6, '7231': 0, '5546': 9, '7731': 4, '7506': 0, '6043': 3, '5352': 9, '7181': 8, '5328': 3, '8418': 1, '6798': 0, '7854': 9, '5391': 6, '6074': 2, '6406': 6, '8396': 1, '7347': 9, '5767': 2, '7673': 5, '6365': 3, '6822': 4, '5574': 5, '5520': 1, '6656': 9, '8106': 7, '8347': 4, '7282': 3, '7997': 5, '7434': 8, '7736': 9, '6410': 8, '6559': 4, '6741': 7, '6742': 4, '6007': 7, '6988': 9, '6111': 2, '6848': 1, '6892': 0, '6901': 1, '7020': 6, '5855': 8, '7103': 3, '6976': 1, '6040': 0, '5739': 2, '7477': 7, '7504': 7, '7592': 9, '6789': 1, '6651': 2, '6170': 7, '6169': 4, '5971': 9, '7439': 7, '8038': 5, '6946': 9, '6526': 0, '7167': 1, '5367': 2, '6714': 3, '6799': 1, '5685': 0, '7832': 1, '5409': 4, '8163': 0, '5622': 9, '6765': 8, '6366': 7, '5237': 3, '8084': 9, '5628': 3, '5806': 0, '5381': 2, '6520': 9, '5269': 9, '6763': 3, '7121': 8, '5637': 1, '7745': 8, '6181': 0, '5438': 8, '8377': 6, '6479': 6, '8083': 6, '6701': 0, '5995': 8, '6756': 7, '7270': 1, '7692': 3, '5727': 6, '7393': 5, '8432': 1, '6316': 7, '5418': 3, '6089': 7, '6717': 6, '5285': 5, '8239': 1, '5992': 7, '7867': 9, '6206': 5, '7852': 7, '5293': 3, '8446': 6, '5691': 4, '6405': 5, '8204': 4, '7952': 9, '6924': 4, '7877': 7, '6587': 8, '5725': 4, '5553': 1, '7743': 6, '7398': 3, '7142': 5, '6136': 5, '5403': 8, '7204': 7, '7948': 5, '7037': 0, '5906': 9, '7983': 3, '7057': 5, '7421': 4, '6045': 3, '7042': 6, '8237': 6, '5575': 9, '6478': 0, '7808': 5, '6920': 2, '7480': 1, '5225': 3, '7366': 4, '6501': 3, '7918': 8, '7303': 1, '7123': 1, '7635': 2, '6565': 9, '8080': 3, '7946': 3, '7631': 6, '6340': 2, '5550': 1, '5564': 4, '7883': 4, '6419': 1, '5640': 7, '7547': 6, '7719': 3, '7063': 1, '8061': 4, '5692': 2, '7138': 1, '7597': 8, '7796': 7, '5393': 4, '6204': 3, '8023': 0, '7519': 3, '5996': 9, '7315': 5, '6664': 3, '6086': 4, '6929': 2, '8102': 2, '6680': 1, '7555': 0, '7406': 2, '7732': 5, '7649': 5, '6919': 9, '7792': 6, '5295': 5, '6487': 9, '5471': 7, '7441': 6, '5535': 1, '6329': 1, '5517': 4, '5948': 6, '6255': 3, '7485': 0, '6986': 7, '5488': 5, '7780': 0, '7226': 1, '5533': 7, '6055': 9, '5694': 6, '5548': 8, '8143': 6, '5484': 6, '8128': 1, '6780': 4, '7082': 7, '8051': 4, '8164': 1, '6544': 3, '6036': 2, '7451': 8, '8285': 7, '6672': 0, '6529': 4, '7233': 3, '5654': 7, '7036': 5, '6531': 6, '5588': 1, '7001': 2, '5468': 3, '8089': 5, '8223': 8, '7019': 1, '6168': 9, '7508': 2, '8092': 4, '5870': 0, '7248': 3, '6801': 3, '5556': 4, '7191': 1, '7094': 8, '5752': 5, '7211': 3, '6449': 7, '7370': 8, '8206': 3, '6628': 1, '6841': 0, '5943': 1, '6506': 1, '7516': 0, '7976': 4, '8395': 4, '8453': 3, '7630': 5, '6660': 4, '7413': 4, '6926': 4, '7400': 2, '5562': 2, '6293': 0, '7292': 3, '7112': 0, '6504': 3, '5980': 0, '7357': 9, '7941': 8, '6878': 2, '8263': 3, '5404': 9, '7412': 2, '7637': 3, '6970': 0, '7389': 6, '6835': 0, '7552': 8, '7523': 7, '7052': 0, '6776': 8, '6315': 6, '7512': 6, '8252': 1, '8369': 4, '8249': 8, '5851': 4, '6676': 3, '7176': 1, '6307': 7, '7895': 9, '7351': 5, '6940': 3, '6010': 2, '8381': 2, '7876': 2, '8212': 0, '6239': 1, '8017': 9, '8074': 7, '5956': 4, '6378': 4, '5632': 5, '7540': 6, '6096': 3, '8472': 4, '5394': 8, '7621': 4, '6466': 2, '7893': 3, '8224': 5, '7841': 3, '5430': 0, '7912': 7, '7815': 2, '7811': 8, '5679': 1, '5298': 8, '8312': 4, '6954': 7, '8228': 0, '6663': 7, '7320': 7, '8352': 1, '6539': 7, '6617': 8, '8108': 2, '6521': 2, '8054': 4, '6990': 4, '6019': 4, '8417': 7, '6067': 5, '6867': 4, '7223': 1, '7629': 4, '8389': 0, '7650': 7, '7658': 1, '7568': 3, '7676': 5, '6649': 8, '6028': 3, '6017': 7, '5303': 6, '6447': 3, '7346': 6, '5912': 3, '7457': 2, '6143': 4, '6142': 5, '6023': 3, '5473': 5, '8059': 2, '7230': 7, '7016': 8, '8431': 9, '7672': 5, '7202': 0, '5230': 6, '6895': 9, '6313': 4, '8120': 3, '5762': 1, '7956': 3, '5505': 0, '6802': 4, '6631': 8, '7432': 2, '6939': 2, '7561': 1, '7828': 9, '5549': 7, '6493': 8, '7586': 8, '7124': 7, '5805': 9, '6196': 5, '6448': 4, '6291': 5, '6569': 3, '8306': 1, '8103': 6, '8256': 6, '7380': 9, '6759': 4, '5873': 1, '7759': 4, '6652': 1, '8420': 1, '5907': 2, '6210': 9, '6593': 3, '7294': 5, '6564': 3, '6183': 2, '7572': 2, '5735': 3, '8114': 0, '7487': 9, '7703': 0, '7514': 8, '7497': 2, '6872': 4, '6122': 6, '7164': 8, '6400': 0, '6245': 8, '5929': 0, '7747': 0, '5831': 1, '6083': 8, '5618': 5, '7302': 8, '8006': 9, '8150': 9, '5669': 0, '6207': 6, '6076': 4, '5760': 3, '6642': 9, '5798': 7, '7881': 1, '8045': 1, '7307': 7, '6453': 3, '7203': 0, '6462': 2, '5513': 0, '6723': 4, '7782': 0, '6341': 5, '6300': 4, '6469': 2, '8456': 8, '7022': 2, '6260': 3, '6254': 1, '8363': 4, '5240': 7, '6120': 5, '8413': 8, '5711': 5, '6388': 6, '5802': 3, '8284': 7, '5586': 8, '5470': 0, '8001': 9, '5849': 2, '5231': 8, '6233': 1, '6562': 2, '7345': 2, '6044': 1, '7149': 7, '7190': 0, '5658': 5, '6886': 5, '6915': 4, '5619': 6, '7594': 9, '7748': 1, '7744': 7, '5773': 7, '8052': 7, '6678': 1, '5226': 8, '7978': 7, '8013': 6, '5652': 0, '7710': 2, '6094': 6, '6810': 2, '6503': 7, '8455': 7, '5704': 9, '7920': 8, '7934': 1, '7492': 2, '5633': 5, '7788': 8, '7460': 7, '5583': 3, '7463': 1, '5604': 1, '6009': 3, '8324': 1, '5649': 9, '8271': 3, '5232': 1, '7300': 7, '7055': 3, '7781': 2, '6715': 4, '5440': 4, '8105': 8, '7721': 6, '6235': 9, '5486': 1, '6910': 9, '8139': 2, '6702': 1, '5255': 0, '8227': 9, '7210': 8, '6602': 0, '8299': 5, '6205': 4, '5317': 7, '6203': 2, '6533': 1, '6995': 4, '7225': 0, '6808': 0, '5383': 6, '7363': 0, '6771': 6, '8218': 7, '7475': 5, '5880': 1, '5886': 6, '5791': 0, '7478': 5, '7458': 3, '7040': 3, '7614': 7, '7028': 7, '7793': 5, '5973': 8, '6973': 3, '6543': 4, '8028': 9, '7394': 4, '7054': 2, '7709': 6, '5626': 2, '7216': 0, '8391': 7, '6876': 3, '5519': 0, '8398': 7, '6024': 3, '6944': 7, '8153': 2, '7330': 0, '8332': 9, '5341': 6, '8098': 0, '7276': 7, '8270': 5, '6099': 0, '7228': 1, '6296': 8, '7966': 7, '7697': 9, '6349': 3, '5742': 5, '7241': 5, '7902': 7, '6811': 3, '5893': 1, '6193': 2, '8421': 7, '8142': 5, '5741': 4, '7003': 3, '7603': 8, '5481': 6, '8411': 3, '5542': 3, '6208': 7, '6774': 6, '6671': 9, '8122': 5, '7321': 2, '5733': 2, '7587': 2, '7079': 7, '5922': 3, '6707': 6, '6159': 1, '6766': 0, '7172': 6, '7980': 1, '5863': 2, '6787': 9, '8043': 7, '8471': 3, '7141': 7, '5976': 8, '6467': 8, '6638': 5, '6706': 3, '7708': 1, '6063': 1, '6327': 8, '7327': 2, '8177': 6, '6336': 8, '5783': 1, '6061': 3, '7995': 3, '7890': 1, '6505': 0, '7443': 6, '7638': 1, '6167': 6, '5874': 3, '7545': 9, '6058': 1, '7711': 7, '6463': 6, '5314': 1, '8202': 7, '7097': 3, '7306': 5, '5967': 8, '5788': 6, '5794': 1, '7050': 6, '6027': 2, '6643': 0, '46': 1, '1541': 8, '380': 0, '1202': 8, '632': 2, '1070': 5, '1655': 9, '625': 6, '828': 2, '402': 3, '229': 7, '1263': 4, '1426': 3, '768': 1, '1027': 1, '1793': 9, '1698': 6, '1193': 1, '1366': 7, '181': 8, '1544': 7, '1088': 9, '7': 9, '1477': 7, '180': 1, '1720': 4, '990': 2, '400': 2, '1276': 7, '1524': 8, '84': 8, '1428': 9, '157': 0, '557': 7, '154': 1, '23': 5, '126': 0, '999': 9, '733': 9, '1315': 3, '330': 1, '76': 3, '943': 6, '802': 4, '1839': 2, '756': 7, '1356': 2, '921': 2, '701': 0, '683': 3, '1429': 9, '495': 2, '123': 6, '249': 2, '1050': 2, '1711': 2, '1010': 4, '827': 4, '1480': 3, '706': 9, '684': 3, '290': 4, '1227': 2, '546': 0, '680': 6, '878': 8, '274': 9, '745': 1, '1599': 4, '308': 4, '328': 7, '204': 1, '401': 8, '1436': 6, '1042': 3, '1825': 9, '979': 1, '1780': 1, '133': 7, '407': 0, '549': 2, '354': 1, '190': 1, '1163': 4, '1843': 0, '858': 2, '284': 9, '939': 2, '988': 1, '1054': 1, '1387': 6, '1601': 3, '792': 3, '207': 5, '29': 1, '1261': 0, '179': 8, '24': 4, '741': 2, '747': 3, '776': 4, '80': 7, '1214': 1, '628': 3, '62': 9, '429': 8, '1201': 1, '825': 7, '1440': 9, '148': 0, '519': 4, '1548': 1, '835': 1, '1547': 4, '194': 0, '175': 3, '1015': 4, '804': 0, '45': 5, '1787': 9, '1533': 0, '1353': 8, '1080': 4, '729': 6, '1051': 4, '857': 3, '872': 8, '547': 2, '1687': 8, '1476': 3, '1151': 6, '1007': 8, '1337': 2, '461': 6, '1784': 7, '1681': 7, '164': 6, '542': 8, '1633': 1, '165': 5, '1650': 0, '134': 8, '1002': 2, '1764': 0, '1405': 5, '480': 1, '1433': 3, '1210': 2, '1422': 9, '399': 4, '1503': 3, '587': 6, '206': 9, '58': 9, '9': 9, '1032': 8, '306': 2, '1121': 0, '1688': 6, '323': 3, '777': 1, '1268': 8, '855': 3, '1755': 5, '539': 2, '666': 7, '1417': 9, '1609': 6, '1499': 8, '1274': 4, '1694': 8, '1368': 1, '1141': 7, '506': 1, '1779': 3, '1632': 6, '124': 4, '606': 8, '20': 9, '1620': 2, '1195': 0, '100': 6, '169': 4, '365': 0, '589': 4, '1657': 1, '579': 7, '1063': 9, '1253': 4, '482': 7, '497': 4, '355': 8, '128': 8, '57': 1, '953': 4, '1836': 1, '1273': 0, '1834': 1, '1239': 3, '854': 0, '913': 9, '910': 4, '1139': 1, '577': 3, '383': 7, '321': 7, '1132': 2, '469': 5, '938': 3, '488': 9, '1613': 8, '315': 9, '1134': 3, '1025': 1, '1774': 8, '1329': 1, '1642': 2, '40': 1, '1618': 5, '1482': 6, '1661': 3, '1435': 9, '345': 1, '405': 4, '535': 4, '1270': 4, '696': 1, '462': 6, '764': 2, '1561': 4, '1397': 1, '1569': 6, '1192': 9, '1570': 0, '1388': 6, '1380': 9, '1501': 9, '161': 6, '744': 2, '966': 9, '8': 6, '389': 9, '1431': 2, '1737': 2, '1416': 0, '490': 0, '981': 0, '410': 7, '240': 5, '743': 6, '160': 4, '1580': 4, '146': 8, '19': 4, '1816': 4, '1437': 4, '1824': 2, '504': 1, '893': 9, '784': 4, '595': 3, '1470': 8, '1549': 2, '1033': 8, '1520': 7, '130': 6, '1646': 1, '720': 8, '663': 1, '4045': 6, '5049': 8, '4446': 6, '3400': 7, '3356': 7, '1972': 0, '2045': 3, '4987': 4, '3849': 0, '2738': 6, '3306': 0, '2427': 3, '3326': 3, '4049': 7, '2415': 2, '3613': 0, '2617': 3, '3909': 2, '2242': 2, '3130': 0, '3858': 1, '3140': 0, '3161': 7, '2461': 0, '2519': 1, '2114': 3, '2789': 1, '2018': 1, '5202': 4, '3373': 7, '4468': 4, '3382': 6, '2973': 9, '1855': 3, '4423': 7, '3905': 8, '2580': 6, '2684': 3, '3176': 2, '3209': 6, '3136': 9, '2316': 1, '4688': 3, '4714': 3, '1905': 6, '3930': 1, '3391': 6, '3247': 4, '4111': 9, '3967': 9, '3401': 0, '3766': 3, '4837': 2, '4158': 9, '4765': 6, '4276': 3, '2313': 9, '3832': 2, '4756': 8, '3615': 4, '4402': 2, '2076': 3, '4559': 2, '4361': 0, '3581': 0, '3833': 8, '4742': 7, '4335': 3, '3014': 1, '4730': 7, '2717': 0, '3863': 5, '3369': 1, '4065': 2, '2452': 5, '2163': 8, '3150': 3, '2006': 6, '2022': 4, '3180': 2, '2775': 5, '4580': 1, '4003': 6, '2943': 1, '4001': 4, '2158': 2, '3537': 5, '2787': 2, '1991': 2, '2579': 8, '5100': 9, '2365': 7, '4634': 8, '3841': 4, '5027': 4, '4924': 1, '3737': 8, '2289': 8, '2071': 1, '5154': 7, '2878': 1, '5045': 2, '2459': 2, '4416': 6, '2145': 4, '4712': 5, '3515': 3, '2150': 6, '4399': 8, '4073': 7, '3733': 1, '3777': 1, '3589': 7, '5168': 3, '3955': 5, '3129': 3, '3267': 2, '3435': 2, '3331': 6, '2204': 0, '4872': 1, '4893': 9, '4033': 0, '3721': 7, '1946': 8, '3539': 6, '4364': 5, '2750': 6, '4820': 8, '3768': 0, '4060': 4, '5109': 0, '5025': 1, '3316': 7, '2897': 8, '3294': 7, '2072': 3, '2695': 4, '3956': 4, '3948': 6, '3857': 9, '3712': 6, '2907': 9, '2321': 6, '3050': 1, '2920': 6, '4710': 2, '3952': 3, '2601': 6, '2942': 0, '4540': 3, '3165': 9, '5021': 5, '4539': 7, '2900': 4, '1944': 0, '4635': 3, '4123': 8, '3884': 9, '3908': 6, '2064': 5, '2299': 7, '4577': 5, '2703': 0, '3070': 1, '3901': 6, '3353': 1, '4171': 1, '2913': 5, '3392': 9, '2821': 0, '4040': 9, '2539': 7, '3759': 9, '3422': 0, '4483': 4, '4208': 0, '2638': 0, '2682': 5, '2982': 1, '4207': 8, '4480': 9, '2010': 1, '3421': 1, '5201': 4, '2154': 1, '3715': 3, '2453': 3, '2525': 3, '4087': 3, '5200': 4, '2115': 0, '3188': 4, '2178': 0, '3211': 1, '4151': 7, '2500': 2, '2432': 2, '2808': 7, '3086': 4, '4968': 9, '2043': 8, '3438': 1, '2837': 7, '2972': 0, '2626': 1, '2264': 4, '4166': 0, '3299': 3, '2753': 8, '3467': 9, '3999': 9, '2063': 7, '4832': 6, '4485': 7, '3611': 2, '4094': 5, '3678': 5, '4486': 8, '2139': 3, '2408': 3, '1890': 2, '4725': 2, '3929': 8, '4282': 0, '4137': 8, '3109': 7, '2049': 9, '4271': 3, '1913': 3, '2030': 5, '3559': 8, '4194': 4, '4631': 0, '4997': 2, '3215': 0, '2180': 5, '4056': 5, '2609': 6, '4875': 6, '4567': 9, '2890': 7, '3785': 2, '3989': 0, '3700': 4, '3547': 2, '4085': 1, '4680': 6, '2676': 1, '3055': 7, '4520': 5, '4155': 0, '3305': 0, '2552': 8, '2249': 4, '2827': 1, '1892': 0, '5041': 8, '4095': 9, '5032': 4, '2483': 6, '4032': 1, '3403': 6, '5004': 4, '3348': 8, '3675': 2, '3365': 6, '4278': 0, '2581': 5, '4349': 1, '4063': 5, '2980': 6, '3560': 6, '1907': 0, '5050': 9, '4341': 3, '1904': 9, '4249': 1, '4472': 5, '4070': 0, '3134': 2, '2280': 3, '4177': 5, '4090': 0, '3972': 6, '4946': 4, '2352': 6, '2567': 7, '2255': 3, '5077': 7, '3275': 3, '3708': 8, '4932': 1, '2508': 6, '4839': 8, '3182': 6, '1853': 9, '4871': 1, '2122': 2, '3788': 5, '3550': 6, '2416': 1, '4142': 7, '4659': 9, '5158': 3, '5124': 0, '3116': 2, '4512': 6, '4477': 0, '2660': 0, '3809': 1, '4351': 0, '2116': 6, '3483': 9, '2763': 0, '4553': 9, '3563': 8, '2657': 0, '1870': 0, '4784': 7, '3807': 8, '3588': 8, '4387': 2, '3473': 8, '5146': 3, '1975': 7, '4948': 8, '2575': 3, '3040': 7, '4944': 2, '4929': 4, '4965': 2, '3454': 1, '3495': 4, '2576': 1, '4864': 1, '3319': 8, '5055': 4, '2494': 9, '4749': 5, '4128': 3, '3123': 4, '4621': 3, '3528': 3, '2651': 6, '3500': 4, '4257': 9, '3399': 7, '4709': 2, '3412': 0, '4170': 1, '4887': 0, '2209': 0, '4870': 2, '3104': 3, '2436': 4, '2225': 8, '4372': 8, '2924': 3, '3013': 0, '4831': 6, '3534': 4, '4590': 4, '5205': 7, '3825': 3, '2234': 7, '4119': 7, '2156': 6, '3652': 1, '2797': 5, '3270': 6, '4962': 2, '3309': 7, '2269': 2, '2060': 0, '5042': 9, '4036': 1, '2722': 1, '3753': 7, '2252': 7, '4316': 9, '5114': 7, '2853': 3, '4759': 1, '3885': 9, '2496': 2, '2464': 4, '3980': 0, '4261': 5, '4628': 0, '2188': 0, '2124': 4, '1953': 3, '4901': 9, '5198': 8, '2758': 3, '5119': 2, '1984': 2, '4371': 8, '4384': 2, '3463': 4, '3852': 1, '3231': 1, '3625': 1, '2004': 8, '3548': 3, '4822': 8, '2788': 1, '2094': 4, '1982': 5, '3645': 5, '3689': 1, '2927': 2, '3874': 9, '2046': 4, '2560': 3, '2324': 1, '3861': 9, '4605': 3, '2166': 1, '2029': 5, '4039': 1, '2990': 8, '2510': 1, '2723': 3, '4164': 3, '2014': 9, '2589': 9, '1938': 2, '4931': 1, '2274': 9, '4920': 2, '4122': 9, '2451': 8, '4497': 7, '5133': 0, '4504': 2, '5022': 9, '4227': 0, '2844': 7, '2342': 9, '2239': 1, '3966': 9, '4408': 9, '3179': 0, '3111': 7, '4118': 5, '2134': 5, '2458': 6, '2468': 6, '3718': 9, '4781': 7, '4588': 1, '2475': 2, '4374': 6, '3824': 3, '2463': 7, '3471': 1, '4937': 0, '3517': 4, '3166': 9, '3303': 7, '2401': 4, '3250': 2, '4514': 4, '2876': 6, '5185': 3, '2437': 2, '3169': 4, '2724': 8, '4375': 8, '3089': 2, '2084': 4, '2820': 7, '3851': 1, '3282': 4, '3491': 9, '2664': 2, '2487': 5, '2087': 0, '1862': 4, '2196': 9, '4159': 8, '3322': 0, '3519': 8, '2406': 8, '4533': 1, '5125': 2, '4645': 5, '2822': 1, '3597': 3, '3285': 3, '4717': 1, '4019': 6, '4379': 4, '5047': 4, '4773': 7, '3564': 6, '5140': 2, '4283': 9, '4877': 1, '3241': 9, '3866': 1, '2364': 3, '2035': 3, '4433': 3, '2633': 9, '3870': 0, '4215': 7, '4778': 1, '4848': 2, '4273': 1, '2854': 9, '3937': 1, '4290': 8, '2803': 1, '2548': 9, '3701': 3, '3317': 0, '4878': 2, '4394': 6, '2645': 4, '1894': 9, '1909': 1, '4729': 1, '5123': 4, '4925': 3, '2005': 4, '3315': 0, '5096': 4, '2023': 0, '4411': 8, '3792': 4, '3307': 6, '5024': 2, '3830': 0, '2830': 6, '2021': 5, '4343': 0, '3706': 0, '5082': 4, '2739': 8, '3201': 2, '3010': 3, '2953': 5, '2584': 8, '4524': 1, '3882': 8, '4683': 9, '3084': 9, '5177': 9, '2194': 6, '2090': 4, '2421': 1, '5008': 0, '2396': 2, '4318': 1, '3464': 1, '2107': 8, '2417': 0, '3131': 3, '4522': 7, '4435': 3, '3039': 1, '2078': 5, '2989': 3, '1997': 3, '4449': 0, '4572': 8, '2207': 5, '4623': 7, '3120': 3, '2765': 0, '3763': 4, '2955': 3, '5137': 9, '2526': 3, '4607': 6, '2602': 2, '2333': 0, '2800': 8, '2847': 4, '2011': 3, '4564': 1, '2137': 1, '3475': 3, '2720': 9, '3334': 5, '3185': 0, '3821': 9, '4604': 0, '3906': 3, '2320': 9, '4838': 6, '1901': 4, '4077': 1, '2768': 5, '3263': 8, '5064': 7, '2531': 0, '4386': 1, '3664': 9, '4856': 9, '4775': 2, '3041': 9, '1983': 3, '3490': 9, '2171': 1, '4525': 1, '2734': 1, '3465': 4, '5116': 6, '2802': 2, '5129': 8, '4972': 1, '2888': 7, '2187': 7, '2815': 1, '5121': 7, '2042': 0, '4149': 2, '2642': 7, '4824': 0, '2770': 3, '2595': 7, '2388': 6, '4075': 0, '3789': 1, '3439': 0, '3673': 1, '4229': 4, '1928': 3, '2629': 3, '2954': 0, '3437': 9, '3886': 6, '2211': 8, '3739': 3, '4064': 7, '2538': 9, '3594': 7, '4412': 6, '3266': 0, '4620': 6, '3926': 3, '3251': 0, '3301': 2, '4690': 7, '2016': 2, '2752': 2, '3024': 4, '4043': 0, '3570': 5, '2282': 3, '4496': 8, '2153': 3, '3139': 8, '2793': 8, '2210': 6, '4894': 3, '2105': 3, '2798': 5, '1910': 5, '3520': 4, '3221': 3, '3663': 5, '2474': 7, '3769': 3, '2882': 4, '2434': 1, '3436': 2, '2549': 3, '2480': 7, '4643': 1, '4327': 0, '3433': 1, '2678': 4, '1873': 9, '2318': 0, '3447': 6, '3590': 5, '2297': 8, '4393': 3, '4823': 4, '3494': 7, '4131': 3, '3876': 2, '4234': 3, '2467': 8, '4240': 9, '3108': 3, '3934': 8, '2412': 2, '1958': 4, '4755': 3, '1867': 1, '3987': 8, '4124': 8, '3016': 0, '2866': 6, '1971': 6, '3252': 6, '4570': 9, '1985': 4, '3398': 6, '1992': 9, '3293': 2, '4220': 3, '3073': 2, '4985': 2, '1903': 7, '4593': 7, '4246': 8, '2957': 5, '4115': 2, '4818': 3, '3605': 1, '4217': 4, '2373': 4, '2714': 0, '2691': 8, '1947': 2, '2024': 9, '4179': 1, '2826': 6, '2433': 1, '2894': 0, '3734': 0, '5057': 6, '2268': 7, '5031': 0, '1165': 9, '1161': 6, '1559': 3, '291': 2, '1808': 0, '1061': 0, '590': 3, '1553': 3, '397': 5, '605': 9, '1658': 2, '1635': 5, '801': 3, '895': 0, '569': 3, '1509': 4, '113': 9, '1759': 8, '1371': 8, '197': 6, '905': 2, '1586': 3, '534': 6, '1699': 7, '1179': 1, '570': 5, '167': 5, '567': 0, '420': 4, '699': 3, '584': 1, '1260': 1, '1056': 2, '1105': 9, '208': 2, '571': 9, '1077': 4, '718': 8, '914': 8, '1078': 4, '247': 2, '254': 7, '1443': 8, '728': 2, '1066': 3, '1316': 1, '1044': 8, '1724': 4, '1730': 3, '1173': 9, '1809': 7, '1571': 9, '299': 8, '1038': 1, '689': 9, '986': 6, '378': 1, '667': 3, '387': 2, '202': 1, '1262': 2, '263': 7, '481': 9, '170': 4, '885': 6, '493': 3, '195': 3, '450': 3, '1685': 6, '1311': 9, '225': 2, '1446': 2, '1427': 4, '846': 9, '339': 6, '1464': 8, '692': 5, '1101': 8, '1543': 7, '959': 9, '723': 0, '554': 7, '533': 4, '844': 7, '393': 1, '574': 3, '1000': 9, '622': 4, '1630': 1, '717': 6, '60': 7, '1349': 2, '1502': 8, '135': 1, '294': 0, '1231': 0, '241': 3, '1145': 4, '1327': 9, '1629': 5, '1062': 3, '79': 7, '830': 2, '337': 7, '1765': 3, '665': 6, '1059': 4, '1498': 7, '1739': 0, '1404': 0, '457': 6, '1326': 2, '277': 8, '1172': 3, '1845': 3, '842': 7, '213': 3, '1292': 6, '35': 2, '275': 4, '619': 8, '1385': 9, '669': 3, '106': 2, '1041': 5, '1507': 7, '151': 9, '1108': 6, '296': 0, '968': 4, '292': 9, '1023': 4, '233': 7, '766': 5, '41': 7, '962': 9, '74': 1, '1194': 9, '1462': 2, '423': 2, '649': 7, '114': 7, '300': 6, '1374': 2, '1373': 6, '1099': 6, '521': 9, '1671': 7, '1094': 0, '1058': 9, '367': 5, '1648': 9, '491': 5, '1362': 6, '871': 0, '1158': 4, '1142': 4, '109': 4, '1660': 7, '865': 3, '1206': 2, '1545': 9, '731': 2, '724': 6, '757': 4, '1011': 1, '305': 0, '196': 1, '1103': 9, '641': 8, '1708': 0, '1554': 9, '327': 0, '1325': 6, '621': 8, '1048': 9, '363': 2, '1585': 2, '592': 0, '376': 4, '32': 3, '875': 2, '1393': 3, '1150': 3, '1322': 9, '484': 4, '730': 7, '1182': 8, '215': 0, '1567': 8, '799': 2, '1598': 5, '610': 2, '1031': 2, '614': 3, '1761': 5, '168': 1, '812': 5, '343': 3, '821': 0, '89': 1, '266': 8, '550': 7, '1294': 0, '1176': 0, '1045': 9, '1525': 0, '1243': 5, '176': 1, '881': 9, '427': 1, '1736': 1, '1747': 5, '1490': 3, '1233': 5, '348': 1, '1727': 3, '553': 8, '1582': 1, '916': 4, '271': 0, '269': 0, '1022': 5, '1725': 6, '638': 5, '70': 7, '1035': 6, '528': 3, '422': 9, '1074': 8, '1644': 2, '523': 1, '836': 1, '951': 4, '927': 3, '262': 7, '1832': 3, '1135': 5, '682': 1, '1307': 6, '581': 0, '880': 7, '719': 4, '507': 3, '141': 7, '882': 9, '1659': 1, '489': 1, '1086': 9, '536': 2, '773': 9, '769': 6, '496': 9, '119': 2, '1527': 6, '1043': 4, '1491': 6, '326': 2, '364': 5, '1013': 9, '1781': 9, '1240': 1, '111': 7, '967': 1, '662': 9, '1116': 4, '1818': 6, '958': 3, '1209': 6, '1531': 3, '1345': 2, '1846': 5, '455': 1, '847': 3, '322': 9, '1701': 4, '1796': 0, '150': 9, '778': 5, '1672': 5, '391': 2, '152': 5, '806': 8, '1552': 4, '887': 3, '1673': 1, '811': 3, '532': 4, '485': 0, '1364': 2, '117': 4, '863': 2, '629': 6, '31': 1, '1475': 6, '1696': 2, '611': 0, '1678': 0, '697': 4, '870': 6, '1455': 9, '166': 4, '441': 0, '624': 2, '86': 7, '464': 3, '1183': 9, '234': 7, '359': 9, '313': 3, '1249': 8, '83': 7, '1707': 1, '1335': 2, '973': 6, '1237': 2, '686': 3, '1126': 7, '1312': 8, '1508': 9, '1518': 2, '356': 5, '1255': 9, '1236': 1, '932': 0, '244': 2, '596': 8, '1682': 2, '478': 8, '437': 3, '1556': 8, '1122': 7, '1392': 1, '1664': 8, '841': 7, '994': 1, '1819': 6, '463': 6, '748': 4, '931': 4, '588': 5, '644': 0, '1583': 8, '30': 3, '88': 6, '936': 8, '1034': 0, '239': 1, '309': 3, '404': 2, '1230': 4, '900': 3, '412': 3, '1623': 0, '864': 8, '1197': 0, '131': 6, '1459': 2, '1347': 9, '214': 9, '342': 1, '1794': 0, '1093': 8, '255': 7, '93': 3, '1160': 4, '1100': 7, '1198': 8, '1186': 7, '434': 9}\n"
          ]
        }
      ]
    },
    {
      "cell_type": "code",
      "source": [
        "import requests\n",
        "import json\n",
        "\n",
        "# url localhost\n",
        "url = \"http://coruscant.disi.unitn.it:3001/results/\"\n",
        "\n",
        "def submit(results, url=\"http://coruscant.disi.unitn.it:3001/results/\"):\n",
        "    res = json.dumps(results)\n",
        "    # print(res)\n",
        "    response = requests.post(url, res)\n",
        "    try:\n",
        "        result = json.loads(response.text)\n",
        "        print(f\"accuracy is {result['accuracy']}\")\n",
        "        print(f\"precision is {result['precision']}\")\n",
        "        print(f\"recall is {result['recall']}\")\n",
        "    except json.JSONDecodeError:\n",
        "        print(f\"ERROR: {response.text}\")"
      ],
      "metadata": {
        "id": "RNix4suOn7Be"
      },
      "execution_count": 29,
      "outputs": []
    },
    {
      "cell_type": "code",
      "source": [
        "query = dict()\n",
        "query['groupname'] = \"La Boccia\"\n",
        "\n",
        "query[\"images\"] = results\n",
        "\n",
        "print(query)"
      ],
      "metadata": {
        "colab": {
          "base_uri": "https://localhost:8080/"
        },
        "id": "1OYpGxf6oOE3",
        "outputId": "54dcdaa5-f8a2-4e47-c140-6f37c1e0471a"
      },
      "execution_count": 34,
      "outputs": [
        {
          "output_type": "stream",
          "name": "stdout",
          "text": [
            "{'groupname': 'La Boccia', 'images': {'8376': 1, '5501': 6, '5504': 3, '5630': 1, '7957': 4, '7030': 7, '7882': 0, '5427': 2, '5526': 0, '6945': 8, '5983': 2, '7422': 1, '7888': 4, '7184': 2, '7139': 0, '7268': 7, '6496': 9, '6880': 5, '6613': 6, '5593': 0, '7077': 5, '6038': 6, '7910': 4, '6411': 9, '5307': 0, '7175': 0, '6853': 7, '6084': 2, '8197': 6, '5408': 3, '6914': 9, '5842': 9, '7738': 8, '8500': 4, '6710': 9, '5717': 2, '7031': 0, '8436': 9, '7039': 6, '5647': 8, '6681': 3, '5678': 8, '7414': 5, '7942': 9, '5723': 2, '5662': 5, '6803': 5, '8383': 9, '6610': 9, '6733': 1, '5447': 9, '5494': 2, '6158': 7, '5476': 4, '6761': 4, '7364': 2, '7388': 5, '5321': 0, '8375': 9, '5917': 1, '6250': 0, '7111': 7, '5518': 5, '5339': 5, '5229': 5, '5496': 7, '8492': 2, '6225': 2, '6075': 3, '7829': 3, '5485': 7, '8002': 9, '5859': 1, '6308': 1, '6468': 1, '5322': 4, '5275': 5, '5858': 7, '8486': 8, '6992': 7, '6654': 8, '5508': 3, '6918': 3, '6568': 4, '7761': 6, '7677': 7, '6414': 5, '6755': 8, '7659': 5, '7436': 3, '7737': 0, '7362': 7, '5449': 2, '5405': 0, '7669': 4, '7490': 7, '5320': 0, '6228': 9, '5688': 9, '6460': 4, '5461': 1, '7423': 4, '7804': 3, '5522': 8, '7418': 1, '5844': 6, '8245': 2, '5380': 8, '6238': 8, '6692': 9, '6844': 2, '5972': 3, '7201': 4, '5889': 1, '6606': 7, '7727': 0, '5624': 5, '8410': 8, '5607': 4, '8057': 0, '6236': 5, '5642': 8, '7846': 0, '6991': 5, '6115': 1, '8489': 3, '5650': 8, '6035': 0, '6470': 0, '6409': 9, '5777': 8, '7766': 7, '8319': 9, '7456': 4, '6473': 0, '6269': 7, '6792': 6, '8233': 1, '7589': 4, '5598': 5, '6781': 0, '8154': 3, '7698': 5, '6334': 6, '6356': 1, '6757': 1, '6227': 3, '7247': 1, '6085': 3, '7335': 6, '7855': 0, '6090': 8, '8053': 9, '5223': 5, '6854': 4, '7510': 4, '5827': 0, '6450': 8, '5631': 4, '7958': 5, '7656': 3, '8294': 8, '6343': 8, '6983': 4, '6979': 0, '7549': 6, '5221': 6, '5567': 0, '8382': 0, '7584': 7, '6855': 7, '5460': 1, '7539': 2, '5370': 1, '8479': 9, '7818': 4, '8175': 7, '6583': 0, '6458': 7, '7049': 0, '7006': 3, '7765': 8, '7378': 8, '5787': 9, '7062': 0, '6809': 1, '7985': 7, '6547': 4, '6820': 2, '6148': 5, '7647': 7, '7260': 7, '5224': 3, '5560': 9, '5439': 4, '8414': 0, '6834': 8, '8162': 3, '8189': 4, '6864': 8, '8370': 3, '8426': 9, '7137': 4, '5234': 7, '5807': 5, '6173': 2, '6397': 1, '8359': 0, '7558': 0, '6888': 9, '6149': 7, '5903': 7, '6828': 2, '6364': 7, '5218': 6, '7410': 0, '6997': 4, '7246': 9, '5747': 3, '8205': 4, '7048': 1, '6632': 9, '8286': 3, '5832': 4, '5378': 6, '7312': 3, '6128': 6, '6490': 7, '5744': 8, '7746': 9, '7608': 1, '5667': 2, '6304': 8, '6588': 0, '8494': 3, '6177': 3, '7785': 2, '5892': 3, '5345': 4, '6423': 2, '6328': 0, '5472': 3, '8047': 2, '7913': 0, '6682': 9, '8264': 4, '8077': 0, '7696': 4, '6480': 2, '5814': 3, '7537': 0, '8021': 0, '5645': 9, '5743': 6, '6831': 2, '6614': 2, '6408': 1, '7875': 3, '7005': 1, '7185': 3, '7274': 5, '7928': 8, '6020': 6, '5565': 9, '6825': 7, '8422': 9, '8032': 3, '7084': 0, '8293': 3, '7835': 0, '6443': 9, '5316': 1, '6999': 4, '7014': 1, '7739': 2, '6370': 3, '6971': 0, '6152': 4, '8357': 8, '7334': 7, '5918': 0, '6209': 8, '6693': 6, '7970': 6, '6436': 9, '5790': 9, '5318': 1, '6184': 3, '7884': 9, '7907': 0, '7926': 8, '6969': 1, '5555': 3, '8165': 2, '8291': 6, '5749': 2, '5382': 3, '5514': 1, '6942': 5, '7411': 1, '8031': 2, '7419': 7, '5847': 0, '7491': 0, '7936': 3, '8110': 7, '6242': 7, '7581': 1, '7025': 9, '6805': 7, '8185': 5, '5265': 6, '8473': 5, '6673': 1, '6933': 6, '6330': 2, '6229': 6, '7323': 1, '5327': 1, '8333': 6, '5915': 1, '5451': 5, '5936': 9, '5696': 4, '6248': 8, '7337': 0, '7217': 1, '6277': 5, '5900': 4, '8265': 7, '7872': 8, '6736': 3, '5350': 1, '6194': 3, '6320': 1, '6415': 5, '7474': 5, '6005': 1, '6603': 9, '7579': 9, '6987': 6, '5435': 0, '7577': 5, '8018': 6, '5425': 7, '6889': 8, '6483': 5, '7153': 4, '5429': 9, '6523': 8, '7470': 3, '7831': 3, '7998': 7, '5379': 8, '6875': 3, '5245': 3, '7198': 8, '5644': 8, '8313': 7, '5580': 9, '7681': 6, '7117': 3, '7147': 2, '6319': 0, '8034': 5, '6433': 4, '6612': 8, '6957': 3, '5387': 8, '7431': 3, '5957': 3, '8009': 8, '5813': 9, '6192': 1, '8329': 4, '7494': 4, '8072': 3, '7981': 3, '5399': 1, '7437': 5, '6912': 2, '7173': 1, '5845': 7, '7096': 4, '6694': 8, '6281': 2, '7496': 9, '7863': 9, '8093': 9, '6351': 0, '8073': 6, '7245': 2, '7239': 6, '7115': 2, '6725': 8, '5374': 5, '5532': 7, '8441': 6, '5373': 9, '7990': 8, '6961': 1, '5329': 3, '5566': 1, '5913': 3, '6998': 9, '7135': 2, '5638': 3, '6059': 3, '6525': 5, '8478': 6, '8423': 6, '5894': 9, '6785': 4, '7564': 2, '6762': 7, '7254': 9, '6335': 7, '6175': 4, '6729': 1, '6385': 3, '7868': 0, '8231': 1, '7773': 2, '6508': 9, '8407': 3, '6896': 6, '7924': 7, '5780': 3, '6779': 0, '5354': 6, '5592': 0, '5568': 6, '6001': 8, '5249': 0, '6635': 2, '8358': 9, '8447': 5, '7154': 2, '6721': 2, '7671': 0, '5776': 1, '8253': 2, '6264': 0, '7169': 4, '7905': 3, '6838': 8, '6607': 2, '6898': 8, '6134': 6, '5457': 8, '7433': 8, '7742': 5, '5605': 2, '7376': 4, '8346': 3, '6726': 1, '6699': 4, '7939': 6, '8176': 4, '7880': 6, '5822': 4, '5241': 0, '7313': 8, '6974': 4, '6618': 1, '7296': 7, '8229': 1, '8166': 1, '8101': 9, '7104': 3, '7632': 7, '8397': 3, '8445': 5, '7266': 2, '5462': 8, '6097': 0, '6139': 3, '7465': 0, '5611': 8, '8450': 2, '7694': 8, '7892': 9, '8290': 3, '8046': 8, '6268': 4, '8427': 1, '5312': 4, '6230': 9, '7207': 3, '7459': 9, '5244': 0, '6626': 4, '6399': 6, '8400': 4, '6927': 0, '7923': 8, '5811': 1, '6021': 4, '5866': 7, '5689': 1, '5490': 1, '7505': 0, '6611': 5, '8430': 3, '9066': 6, '8915': 2, '9789': 4, '9708': 4, '9904': 2, '9554': 9, '8763': 0, '9008': 0, '8657': 0, '9180': 1, '8742': 7, '8539': 5, '9190': 1, '9028': 9, '9913': 2, '9317': 6, '9067': 7, '9391': 5, '9151': 7, '9025': 8, '9525': 4, '9344': 4, '9459': 0, '8515': 6, '8753': 3, '9912': 1, '8825': 7, '8667': 8, '9889': 3, '9700': 2, '8865': 0, '9328': 7, '8632': 5, '9492': 4, '8652': 5, '9395': 1, '8916': 3, '9094': 9, '9731': 7, '8548': 0, '9270': 7, '9684': 7, '9887': 8, '8800': 2, '9624': 3, '9603': 2, '8665': 5, '9548': 3, '9289': 5, '9105': 0, '8806': 8, '8729': 1, '8608': 7, '8618': 8, '8971': 1, '8927': 8, '8935': 9, '8838': 2, '9873': 4, '8920': 9, '9359': 2, '9895': 7, '8970': 3, '9193': 4, '8828': 6, '9343': 6, '9387': 0, '9797': 3, '8639': 3, '9558': 3, '8535': 0, '9743': 7, '9772': 1, '8668': 6, '9331': 5, '9348': 1, '9132': 5, '8525': 7, '8932': 8, '9957': 7, '9209': 2, '8747': 5, '8719': 2, '9174': 0, '9508': 0, '9574': 8, '8824': 6, '9408': 9, '9583': 5, '9702': 5, '9378': 1, '9863': 8, '8741': 5, '9892': 8, '8989': 4, '9960': 4, '8697': 6, '8839': 9, '9031': 7, '8551': 3, '9903': 1, '9995': 2, '9218': 9, '8829': 4, '9406': 4, '9967': 8, '9092': 8, '9254': 9, '9880': 2, '9616': 5, '9622': 1, '9954': 2, '9695': 8, '8940': 5, '8762': 9, '9276': 4, '9082': 2, '9577': 2, '9204': 7, '9221': 0, '9663': 0, '9818': 0, '9894': 7, '8734': 7, '8547': 8, '9137': 0, '9152': 4, '9338': 5, '8986': 1, '9194': 5, '9935': 7, '8914': 1, '9078': 8, '8917': 4, '8973': 2, '9847': 2, '9834': 8, '9572': 8, '9397': 9, '9065': 5, '8689': 8, '9466': 9, '8805': 7, '9453': 4, '9592': 4, '8720': 1, '8683': 2, '9733': 9, '8603': 3, '8770': 4, '9611': 0, '9299': 9, '9496': 8, '9231': 3, '8715': 1, '9571': 9, '8963': 8, '9365': 3, '9876': 1, '9307': 8, '8656': 5, '9801': 0, '9586': 7, '8572': 6, '9234': 5, '8754': 4, '9546': 7, '9741': 9, '8886': 4, '9388': 1, '8732': 6, '8505': 8, '9671': 5, '8911': 7, '8857': 8, '9488': 0, '9752': 2, '8592': 2, '8778': 8, '8619': 0, '9955': 1, '9649': 1, '9330': 8, '8695': 4, '9669': 4, '9294': 7, '9676': 9, '8998': 9, '9701': 9, '8726': 8, '9757': 0, '8959': 7, '9314': 7, '8688': 7, '9931': 1, '9595': 2, '8889': 2, '8859': 0, '9062': 2, '8978': 0, '9556': 1, '9510': 2, '8976': 1, '9791': 0, '8588': 6, '9591': 1, '9313': 1, '8923': 2, '8556': 8, '8666': 1, '8521': 2, '9120': 1, '9228': 5, '8752': 0, '9568': 6, '8520': 9, '9186': 7, '9832': 2, '9940': 6, '9291': 1, '9883': 3, '8607': 3, '8725': 8, '9362': 9, '8772': 0, '8750': 9, '8510': 7, '9886': 6, '9922': 4, '9374': 7, '9881': 3, '9946': 1, '8600': 1, '9648': 0, '9376': 9, '9428': 3, '9210': 6, '9781': 7, '9172': 7, '9104': 4, '8871': 7, '8606': 7, '9650': 7, '8507': 5, '9511': 3, '9604': 3, '9490': 2, '8969': 2, '8581': 3, '9501': 3, '8948': 5, '9460': 3, '9901': 9, '8845': 0, '9813': 4, '9108': 7, '8718': 7, '8654': 7, '9936': 8, '9569': 2, '9201': 2, '8724': 1, '9875': 8, '8523': 9, '9064': 4, '9099': 4, '8730': 0, '8530': 8, '9216': 9, '9621': 0, '9697': 3, '8949': 9, '9034': 4, '9033': 4, '9647': 0, '9737': 1, '8569': 2, '9479': 3, '9824': 8, '9992': 9, '8655': 3, '9452': 8, '9667': 8, '9807': 8, '8626': 4, '9891': 9, '9316': 3, '8564': 6, '9765': 7, '9251': 6, '8739': 6, '9683': 4, '9806': 7, '9850': 0, '9249': 1, '9014': 6, '9116': 8, '9296': 0, '8609': 8, '9279': 7, '9093': 9, '9278': 6, '9826': 0, '8991': 0, '9727': 3, '8585': 8, '8783': 5, '9704': 0, '8756': 8, '9713': 9, '9425': 0, '8664': 4, '9799': 1, '9386': 9, '9167': 0, '8640': 9, '9247': 6, '9722': 8, '9385': 8, '9500': 2, '8928': 9, '9003': 1, '9261': 3, '9748': 8, '9320': 4, '8909': 5, '8691': 0, '8628': 6, '9696': 2, '9045': 2, '8661': 8, '8508': 3, '8960': 4, '8897': 9, '9134': 0, '9081': 1, '9843': 9, '8516': 6, '9200': 1, '9310': 0, '8582': 4, '8870': 2, '9301': 1, '9980': 3, '9897': 0, '8517': 6, '9004': 0, '8790': 4, '9953': 6, '9440': 0, '9981': 6, '9979': 7, '9919': 7, '9059': 3, '9625': 4, '9594': 1, '9589': 6, '9796': 1, '9119': 5, '9517': 9, '9107': 8, '9402': 8, '9774': 1, '8860': 3, '9950': 1, '9739': 0, '8771': 6, '9241': 1, '9022': 3, '8924': 3, '9792': 9, '8678': 7, '8841': 9, '9916': 9, '9282': 1, '9080': 0, '9522': 7, '9345': 1, '9170': 9, '9956': 1, '8595': 0, '9495': 7, '9230': 0, '9758': 3, '8749': 7, '9290': 5, '9184': 5, '9943': 3, '9071': 8, '9205': 8, '8863': 5, '9403': 6, '8814': 6, '9318': 2, '9795': 1, '9997': 4, '9530': 9, '9073': 3, '9292': 9, '9689': 1, '9435': 1, '8862': 1, '8578': 5, '8711': 5, '9252': 9, '9223': 0, '8966': 2, '9361': 6, '9418': 8, '9181': 2, '8755': 4, '9802': 1, '9779': 0, '8794': 2, '8594': 2, '8717': 9, '9855': 2, '8830': 2, '9311': 0, '9952': 0, '8990': 6, '9775': 6, '8610': 4, '8900': 9, '9158': 0, '8744': 6, '9224': 4, '9351': 2, '8938': 1, '9000': 7, '9322': 8, '9588': 5, '9629': 8, '8861': 4, '9542': 0, '9227': 3, '9246': 2, '9444': 1, '8809': 1, '8552': 4, '8658': 1, '9192': 3, '9354': 8, '9736': 6, '9283': 3, '9472': 9, '9545': 5, '9103': 4, '8882': 9, '8676': 5, '8893': 9, '8566': 8, '9659': 9, '9547': 2, '8934': 8, '8906': 9, '9812': 3, '9793': 6, '8670': 9, '9776': 6, '9360': 5, '8962': 9, '9155': 1, '9163': 3, '9655': 3, '9139': 8, '9303': 2, '9188': 9, '9052': 0, '8705': 9, '9044': 7, '9965': 3, '9911': 0, '9814': 5, '8590': 9, '9375': 8, '9844': 1, '8527': 4, '8612': 2, '9333': 4, '9442': 2, '8782': 9, '9010': 2, '9138': 6, '9828': 3, '9327': 7, '9350': 4, '9654': 3, '8910': 3, '9706': 2, '8596': 9, '9436': 0, '9948': 0, '9037': 0, '9990': 7, '9601': 0, '3366': 4, '3666': 9, '2588': 7, '2930': 3, '5151': 4, '5206': 5, '2484': 7, '2868': 1, '3735': 0, '2054': 9, '4489': 9, '2370': 0, '3674': 3, '2969': 5, '3446': 0, '2367': 6, '3773': 2, '4156': 3, '2929': 9, '4028': 7, '3106': 2, '4757': 0, '3920': 7, '2259': 9, '2003': 5, '3167': 3, '4675': 0, '4528': 3, '1955': 8, '3587': 9, '3069': 4, '5171': 6, '2222': 3, '2271': 8, '2052': 8, '3997': 7, '1977': 6, '4511': 9, '2106': 0, '2865': 3, '2667': 8, '3567': 8, '4857': 0, '2390': 2, '4601': 4, '4679': 9, '3975': 3, '2306': 4, '4029': 4, '4668': 2, '4493': 7, '2441': 3, '2665': 7, '4303': 1, '2343': 1, '3466': 8, '2977': 2, '3530': 4, '4615': 4, '3509': 8, '4337': 1, '2782': 6, '4323': 5, '2381': 8, '4020': 8, '4381': 5, '4983': 3, '2444': 1, '4478': 8, '3484': 3, '1864': 4, '4761': 8, '1881': 9, '2074': 4, '4438': 4, '4563': 1, '4991': 7, '2395': 3, '2057': 6, '2159': 5, '4199': 9, '2315': 1, '4737': 8, '3747': 1, '4981': 2, '3507': 9, '3364': 8, '4650': 0, '3253': 1, '2909': 5, '2351': 3, '3953': 3, '3141': 6, '2622': 7, '3047': 2, '5092': 1, '2995': 8, '4836': 3, '3081': 2, '4103': 2, '2245': 1, '2564': 7, '4922': 8, '4482': 2, '4037': 6, '2177': 8, '5088': 6, '4231': 8, '4589': 1, '3358': 0, '4357': 7, '2701': 4, '3207': 2, '5061': 8, '3128': 2, '4076': 9, '4892': 5, '4078': 3, '5195': 4, '2007': 4, '4535': 3, '3376': 9, '2466': 6, '2655': 1, '2192': 3, '5216': 2, '4776': 0, '2796': 6, '4410': 9, '3938': 4, '3414': 3, '2791': 6, '4455': 8, '3791': 9, '3732': 8, '2038': 8, '4245': 9, '4400': 9, '2246': 8, '4169': 1, '4716': 2, '4909': 1, '4244': 3, '2331': 6, '2400': 5, '4995': 2, '3671': 6, '3638': 1, '4569': 5, '2503': 2, '3059': 7, '3683': 6, '4100': 2, '2382': 8, '2843': 7, '2610': 8, '3814': 5, '4747': 7, '2902': 1, '2195': 7, '2303': 3, '5062': 3, '4880': 8, '5160': 5, '2790': 5, '3112': 8, '5165': 0, '4689': 5, '4325': 9, '2231': 6, '1986': 1, '2298': 8, '4625': 2, '2215': 5, '2146': 8, '4695': 4, '2334': 7, '2889': 4, '2200': 2, '2213': 8, '2711': 6, '4147': 1, '4503': 2, '4762': 3, '4262': 1, '2310': 9, '4732': 1, '2647': 3, '2155': 0, '5128': 1, '3619': 5, '3220': 5, '4222': 3, '3836': 9, '4748': 8, '4760': 7, '4954': 2, '4031': 3, '2743': 5, '4955': 7, '3795': 3, '3163': 8, '4654': 7, '2340': 4, '3126': 1, '4266': 4, '3887': 8, '4565': 6, '4413': 6, '2532': 6, '2661': 1, '4674': 1, '3776': 8, '3616': 7, '2251': 4, '2144': 6, '2745': 3, '3162': 7, '2161': 9, '3410': 9, '3168': 9, '2932': 0, '4311': 3, '3881': 9, '4006': 1, '2740': 9, '5143': 3, '3871': 8, '4731': 7, '3808': 3, '3957': 5, '2301': 7, '3003': 1, '3603': 6, '4348': 0, '3840': 9, '3222': 6, '4353': 0, '4594': 2, '3800': 6, '4614': 0, '2476': 5, '4140': 2, '2404': 4, '4585': 9, '4552': 3, '3651': 1, '2243': 7, '2755': 9, '2346': 5, '4280': 9, '2431': 3, '4081': 6, '2031': 3, '4265': 8, '4301': 9, '3778': 5, '2556': 2, '3805': 0, '2482': 7, '4523': 3, '4174': 9, '2974': 1, '5161': 6, '2604': 3, '4092': 8, '3287': 9, '2550': 8, '3869': 4, '4662': 9, '3284': 8, '3453': 7, '3760': 9, '4187': 2, '5094': 7, '3877': 5, '1931': 5, '3962': 3, '4708': 1, '1998': 9, '2147': 9, '3506': 5, '2859': 8, '3511': 2, '4255': 5, '2864': 2, '2658': 4, '5179': 7, '3345': 5, '3703': 2, '3103': 7, '1871': 2, '3883': 0, '4867': 5, '2328': 0, '3710': 0, '2202': 4, '4288': 3, '2687': 0, '5126': 4, '3774': 0, '3816': 8, '2454': 8, '4610': 9, '3170': 0, '4938': 7, '4061': 7, '4429': 8, '3562': 1, '2505': 7, '3110': 3, '4015': 9, '4004': 3, '4130': 7, '2420': 9, '4466': 6, '4768': 4, '1965': 2, '2624': 3, '4611': 0, '2975': 8, '4905': 2, '4304': 1, '1861': 1, '4900': 7, '3472': 9, '5106': 9, '2904': 2, '2044': 7, '5063': 4, '2100': 5, '4517': 2, '3565': 8, '3476': 3, '4101': 9, '3053': 5, '3992': 9, '4403': 0, '3298': 4, '2027': 1, '4113': 2, '4046': 4, '4038': 2, '2769': 9, '2261': 1, '3551': 4, '4715': 7, '5080': 9, '4681': 9, '3308': 7, '1967': 5, '4492': 3, '4721': 4, '2637': 9, '3950': 9, '4573': 2, '2229': 3, '4591': 6, '5103': 8, '4047': 9, '2329': 0, '4801': 2, '2895': 8, '2283': 1, '2935': 8, '3724': 0, '3627': 8, '2397': 2, '4950': 3, '3318': 2, '2754': 6, '3904': 2, '2450': 3, '2230': 3, '3381': 3, '2614': 8, '2378': 0, '5127': 2, '3085': 3, '4687': 1, '5012': 6, '7369': 8, '5445': 5, '7989': 0, '6418': 2, '5707': 9, '5884': 6, '7783': 1, '7964': 9, '8014': 3, '5266': 2, '7661': 1, '7800': 2, '7397': 5, '7122': 6, '7231': 0, '5546': 9, '7731': 4, '7506': 0, '6043': 3, '5352': 9, '7181': 8, '5328': 3, '8418': 1, '6798': 0, '7854': 9, '5391': 6, '6074': 2, '6406': 6, '8396': 1, '7347': 9, '5767': 2, '7673': 5, '6365': 3, '6822': 4, '5574': 5, '5520': 1, '6656': 9, '8106': 7, '8347': 4, '7282': 3, '7997': 5, '7434': 8, '7736': 9, '6410': 8, '6559': 4, '6741': 7, '6742': 4, '6007': 7, '6988': 9, '6111': 2, '6848': 1, '6892': 0, '6901': 1, '7020': 6, '5855': 8, '7103': 3, '6976': 1, '6040': 0, '5739': 2, '7477': 7, '7504': 7, '7592': 9, '6789': 1, '6651': 2, '6170': 7, '6169': 4, '5971': 9, '7439': 7, '8038': 5, '6946': 9, '6526': 0, '7167': 1, '5367': 2, '6714': 3, '6799': 1, '5685': 0, '7832': 1, '5409': 4, '8163': 0, '5622': 9, '6765': 8, '6366': 7, '5237': 3, '8084': 9, '5628': 3, '5806': 0, '5381': 2, '6520': 9, '5269': 9, '6763': 3, '7121': 8, '5637': 1, '7745': 8, '6181': 0, '5438': 8, '8377': 6, '6479': 6, '8083': 6, '6701': 0, '5995': 8, '6756': 7, '7270': 1, '7692': 3, '5727': 6, '7393': 5, '8432': 1, '6316': 7, '5418': 3, '6089': 7, '6717': 6, '5285': 5, '8239': 1, '5992': 7, '7867': 9, '6206': 5, '7852': 7, '5293': 3, '8446': 6, '5691': 4, '6405': 5, '8204': 4, '7952': 9, '6924': 4, '7877': 7, '6587': 8, '5725': 4, '5553': 1, '7743': 6, '7398': 3, '7142': 5, '6136': 5, '5403': 8, '7204': 7, '7948': 5, '7037': 0, '5906': 9, '7983': 3, '7057': 5, '7421': 4, '6045': 3, '7042': 6, '8237': 6, '5575': 9, '6478': 0, '7808': 5, '6920': 2, '7480': 1, '5225': 3, '7366': 4, '6501': 3, '7918': 8, '7303': 1, '7123': 1, '7635': 2, '6565': 9, '8080': 3, '7946': 3, '7631': 6, '6340': 2, '5550': 1, '5564': 4, '7883': 4, '6419': 1, '5640': 7, '7547': 6, '7719': 3, '7063': 1, '8061': 4, '5692': 2, '7138': 1, '7597': 8, '7796': 7, '5393': 4, '6204': 3, '8023': 0, '7519': 3, '5996': 9, '7315': 5, '6664': 3, '6086': 4, '6929': 2, '8102': 2, '6680': 1, '7555': 0, '7406': 2, '7732': 5, '7649': 5, '6919': 9, '7792': 6, '5295': 5, '6487': 9, '5471': 7, '7441': 6, '5535': 1, '6329': 1, '5517': 4, '5948': 6, '6255': 3, '7485': 0, '6986': 7, '5488': 5, '7780': 0, '7226': 1, '5533': 7, '6055': 9, '5694': 6, '5548': 8, '8143': 6, '5484': 6, '8128': 1, '6780': 4, '7082': 7, '8051': 4, '8164': 1, '6544': 3, '6036': 2, '7451': 8, '8285': 7, '6672': 0, '6529': 4, '7233': 3, '5654': 7, '7036': 5, '6531': 6, '5588': 1, '7001': 2, '5468': 3, '8089': 5, '8223': 8, '7019': 1, '6168': 9, '7508': 2, '8092': 4, '5870': 0, '7248': 3, '6801': 3, '5556': 4, '7191': 1, '7094': 8, '5752': 5, '7211': 3, '6449': 7, '7370': 8, '8206': 3, '6628': 1, '6841': 0, '5943': 1, '6506': 1, '7516': 0, '7976': 4, '8395': 4, '8453': 3, '7630': 5, '6660': 4, '7413': 4, '6926': 4, '7400': 2, '5562': 2, '6293': 0, '7292': 3, '7112': 0, '6504': 3, '5980': 0, '7357': 9, '7941': 8, '6878': 2, '8263': 3, '5404': 9, '7412': 2, '7637': 3, '6970': 0, '7389': 6, '6835': 0, '7552': 8, '7523': 7, '7052': 0, '6776': 8, '6315': 6, '7512': 6, '8252': 1, '8369': 4, '8249': 8, '5851': 4, '6676': 3, '7176': 1, '6307': 7, '7895': 9, '7351': 5, '6940': 3, '6010': 2, '8381': 2, '7876': 2, '8212': 0, '6239': 1, '8017': 9, '8074': 7, '5956': 4, '6378': 4, '5632': 5, '7540': 6, '6096': 3, '8472': 4, '5394': 8, '7621': 4, '6466': 2, '7893': 3, '8224': 5, '7841': 3, '5430': 0, '7912': 7, '7815': 2, '7811': 8, '5679': 1, '5298': 8, '8312': 4, '6954': 7, '8228': 0, '6663': 7, '7320': 7, '8352': 1, '6539': 7, '6617': 8, '8108': 2, '6521': 2, '8054': 4, '6990': 4, '6019': 4, '8417': 7, '6067': 5, '6867': 4, '7223': 1, '7629': 4, '8389': 0, '7650': 7, '7658': 1, '7568': 3, '7676': 5, '6649': 8, '6028': 3, '6017': 7, '5303': 6, '6447': 3, '7346': 6, '5912': 3, '7457': 2, '6143': 4, '6142': 5, '6023': 3, '5473': 5, '8059': 2, '7230': 7, '7016': 8, '8431': 9, '7672': 5, '7202': 0, '5230': 6, '6895': 9, '6313': 4, '8120': 3, '5762': 1, '7956': 3, '5505': 0, '6802': 4, '6631': 8, '7432': 2, '6939': 2, '7561': 1, '7828': 9, '5549': 7, '6493': 8, '7586': 8, '7124': 7, '5805': 9, '6196': 5, '6448': 4, '6291': 5, '6569': 3, '8306': 1, '8103': 6, '8256': 6, '7380': 9, '6759': 4, '5873': 1, '7759': 4, '6652': 1, '8420': 1, '5907': 2, '6210': 9, '6593': 3, '7294': 5, '6564': 3, '6183': 2, '7572': 2, '5735': 3, '8114': 0, '7487': 9, '7703': 0, '7514': 8, '7497': 2, '6872': 4, '6122': 6, '7164': 8, '6400': 0, '6245': 8, '5929': 0, '7747': 0, '5831': 1, '6083': 8, '5618': 5, '7302': 8, '8006': 9, '8150': 9, '5669': 0, '6207': 6, '6076': 4, '5760': 3, '6642': 9, '5798': 7, '7881': 1, '8045': 1, '7307': 7, '6453': 3, '7203': 0, '6462': 2, '5513': 0, '6723': 4, '7782': 0, '6341': 5, '6300': 4, '6469': 2, '8456': 8, '7022': 2, '6260': 3, '6254': 1, '8363': 4, '5240': 7, '6120': 5, '8413': 8, '5711': 5, '6388': 6, '5802': 3, '8284': 7, '5586': 8, '5470': 0, '8001': 9, '5849': 2, '5231': 8, '6233': 1, '6562': 2, '7345': 2, '6044': 1, '7149': 7, '7190': 0, '5658': 5, '6886': 5, '6915': 4, '5619': 6, '7594': 9, '7748': 1, '7744': 7, '5773': 7, '8052': 7, '6678': 1, '5226': 8, '7978': 7, '8013': 6, '5652': 0, '7710': 2, '6094': 6, '6810': 2, '6503': 7, '8455': 7, '5704': 9, '7920': 8, '7934': 1, '7492': 2, '5633': 5, '7788': 8, '7460': 7, '5583': 3, '7463': 1, '5604': 1, '6009': 3, '8324': 1, '5649': 9, '8271': 3, '5232': 1, '7300': 7, '7055': 3, '7781': 2, '6715': 4, '5440': 4, '8105': 8, '7721': 6, '6235': 9, '5486': 1, '6910': 9, '8139': 2, '6702': 1, '5255': 0, '8227': 9, '7210': 8, '6602': 0, '8299': 5, '6205': 4, '5317': 7, '6203': 2, '6533': 1, '6995': 4, '7225': 0, '6808': 0, '5383': 6, '7363': 0, '6771': 6, '8218': 7, '7475': 5, '5880': 1, '5886': 6, '5791': 0, '7478': 5, '7458': 3, '7040': 3, '7614': 7, '7028': 7, '7793': 5, '5973': 8, '6973': 3, '6543': 4, '8028': 9, '7394': 4, '7054': 2, '7709': 6, '5626': 2, '7216': 0, '8391': 7, '6876': 3, '5519': 0, '8398': 7, '6024': 3, '6944': 7, '8153': 2, '7330': 0, '8332': 9, '5341': 6, '8098': 0, '7276': 7, '8270': 5, '6099': 0, '7228': 1, '6296': 8, '7966': 7, '7697': 9, '6349': 3, '5742': 5, '7241': 5, '7902': 7, '6811': 3, '5893': 1, '6193': 2, '8421': 7, '8142': 5, '5741': 4, '7003': 3, '7603': 8, '5481': 6, '8411': 3, '5542': 3, '6208': 7, '6774': 6, '6671': 9, '8122': 5, '7321': 2, '5733': 2, '7587': 2, '7079': 7, '5922': 3, '6707': 6, '6159': 1, '6766': 0, '7172': 6, '7980': 1, '5863': 2, '6787': 9, '8043': 7, '8471': 3, '7141': 7, '5976': 8, '6467': 8, '6638': 5, '6706': 3, '7708': 1, '6063': 1, '6327': 8, '7327': 2, '8177': 6, '6336': 8, '5783': 1, '6061': 3, '7995': 3, '7890': 1, '6505': 0, '7443': 6, '7638': 1, '6167': 6, '5874': 3, '7545': 9, '6058': 1, '7711': 7, '6463': 6, '5314': 1, '8202': 7, '7097': 3, '7306': 5, '5967': 8, '5788': 6, '5794': 1, '7050': 6, '6027': 2, '6643': 0, '46': 1, '1541': 8, '380': 0, '1202': 8, '632': 2, '1070': 5, '1655': 9, '625': 6, '828': 2, '402': 3, '229': 7, '1263': 4, '1426': 3, '768': 1, '1027': 1, '1793': 9, '1698': 6, '1193': 1, '1366': 7, '181': 8, '1544': 7, '1088': 9, '7': 9, '1477': 7, '180': 1, '1720': 4, '990': 2, '400': 2, '1276': 7, '1524': 8, '84': 8, '1428': 9, '157': 0, '557': 7, '154': 1, '23': 5, '126': 0, '999': 9, '733': 9, '1315': 3, '330': 1, '76': 3, '943': 6, '802': 4, '1839': 2, '756': 7, '1356': 2, '921': 2, '701': 0, '683': 3, '1429': 9, '495': 2, '123': 6, '249': 2, '1050': 2, '1711': 2, '1010': 4, '827': 4, '1480': 3, '706': 9, '684': 3, '290': 4, '1227': 2, '546': 0, '680': 6, '878': 8, '274': 9, '745': 1, '1599': 4, '308': 4, '328': 7, '204': 1, '401': 8, '1436': 6, '1042': 3, '1825': 9, '979': 1, '1780': 1, '133': 7, '407': 0, '549': 2, '354': 1, '190': 1, '1163': 4, '1843': 0, '858': 2, '284': 9, '939': 2, '988': 1, '1054': 1, '1387': 6, '1601': 3, '792': 3, '207': 5, '29': 1, '1261': 0, '179': 8, '24': 4, '741': 2, '747': 3, '776': 4, '80': 7, '1214': 1, '628': 3, '62': 9, '429': 8, '1201': 1, '825': 7, '1440': 9, '148': 0, '519': 4, '1548': 1, '835': 1, '1547': 4, '194': 0, '175': 3, '1015': 4, '804': 0, '45': 5, '1787': 9, '1533': 0, '1353': 8, '1080': 4, '729': 6, '1051': 4, '857': 3, '872': 8, '547': 2, '1687': 8, '1476': 3, '1151': 6, '1007': 8, '1337': 2, '461': 6, '1784': 7, '1681': 7, '164': 6, '542': 8, '1633': 1, '165': 5, '1650': 0, '134': 8, '1002': 2, '1764': 0, '1405': 5, '480': 1, '1433': 3, '1210': 2, '1422': 9, '399': 4, '1503': 3, '587': 6, '206': 9, '58': 9, '9': 9, '1032': 8, '306': 2, '1121': 0, '1688': 6, '323': 3, '777': 1, '1268': 8, '855': 3, '1755': 5, '539': 2, '666': 7, '1417': 9, '1609': 6, '1499': 8, '1274': 4, '1694': 8, '1368': 1, '1141': 7, '506': 1, '1779': 3, '1632': 6, '124': 4, '606': 8, '20': 9, '1620': 2, '1195': 0, '100': 6, '169': 4, '365': 0, '589': 4, '1657': 1, '579': 7, '1063': 9, '1253': 4, '482': 7, '497': 4, '355': 8, '128': 8, '57': 1, '953': 4, '1836': 1, '1273': 0, '1834': 1, '1239': 3, '854': 0, '913': 9, '910': 4, '1139': 1, '577': 3, '383': 7, '321': 7, '1132': 2, '469': 5, '938': 3, '488': 9, '1613': 8, '315': 9, '1134': 3, '1025': 1, '1774': 8, '1329': 1, '1642': 2, '40': 1, '1618': 5, '1482': 6, '1661': 3, '1435': 9, '345': 1, '405': 4, '535': 4, '1270': 4, '696': 1, '462': 6, '764': 2, '1561': 4, '1397': 1, '1569': 6, '1192': 9, '1570': 0, '1388': 6, '1380': 9, '1501': 9, '161': 6, '744': 2, '966': 9, '8': 6, '389': 9, '1431': 2, '1737': 2, '1416': 0, '490': 0, '981': 0, '410': 7, '240': 5, '743': 6, '160': 4, '1580': 4, '146': 8, '19': 4, '1816': 4, '1437': 4, '1824': 2, '504': 1, '893': 9, '784': 4, '595': 3, '1470': 8, '1549': 2, '1033': 8, '1520': 7, '130': 6, '1646': 1, '720': 8, '663': 1, '4045': 6, '5049': 8, '4446': 6, '3400': 7, '3356': 7, '1972': 0, '2045': 3, '4987': 4, '3849': 0, '2738': 6, '3306': 0, '2427': 3, '3326': 3, '4049': 7, '2415': 2, '3613': 0, '2617': 3, '3909': 2, '2242': 2, '3130': 0, '3858': 1, '3140': 0, '3161': 7, '2461': 0, '2519': 1, '2114': 3, '2789': 1, '2018': 1, '5202': 4, '3373': 7, '4468': 4, '3382': 6, '2973': 9, '1855': 3, '4423': 7, '3905': 8, '2580': 6, '2684': 3, '3176': 2, '3209': 6, '3136': 9, '2316': 1, '4688': 3, '4714': 3, '1905': 6, '3930': 1, '3391': 6, '3247': 4, '4111': 9, '3967': 9, '3401': 0, '3766': 3, '4837': 2, '4158': 9, '4765': 6, '4276': 3, '2313': 9, '3832': 2, '4756': 8, '3615': 4, '4402': 2, '2076': 3, '4559': 2, '4361': 0, '3581': 0, '3833': 8, '4742': 7, '4335': 3, '3014': 1, '4730': 7, '2717': 0, '3863': 5, '3369': 1, '4065': 2, '2452': 5, '2163': 8, '3150': 3, '2006': 6, '2022': 4, '3180': 2, '2775': 5, '4580': 1, '4003': 6, '2943': 1, '4001': 4, '2158': 2, '3537': 5, '2787': 2, '1991': 2, '2579': 8, '5100': 9, '2365': 7, '4634': 8, '3841': 4, '5027': 4, '4924': 1, '3737': 8, '2289': 8, '2071': 1, '5154': 7, '2878': 1, '5045': 2, '2459': 2, '4416': 6, '2145': 4, '4712': 5, '3515': 3, '2150': 6, '4399': 8, '4073': 7, '3733': 1, '3777': 1, '3589': 7, '5168': 3, '3955': 5, '3129': 3, '3267': 2, '3435': 2, '3331': 6, '2204': 0, '4872': 1, '4893': 9, '4033': 0, '3721': 7, '1946': 8, '3539': 6, '4364': 5, '2750': 6, '4820': 8, '3768': 0, '4060': 4, '5109': 0, '5025': 1, '3316': 7, '2897': 8, '3294': 7, '2072': 3, '2695': 4, '3956': 4, '3948': 6, '3857': 9, '3712': 6, '2907': 9, '2321': 6, '3050': 1, '2920': 6, '4710': 2, '3952': 3, '2601': 6, '2942': 0, '4540': 3, '3165': 9, '5021': 5, '4539': 7, '2900': 4, '1944': 0, '4635': 3, '4123': 8, '3884': 9, '3908': 6, '2064': 5, '2299': 7, '4577': 5, '2703': 0, '3070': 1, '3901': 6, '3353': 1, '4171': 1, '2913': 5, '3392': 9, '2821': 0, '4040': 9, '2539': 7, '3759': 9, '3422': 0, '4483': 4, '4208': 0, '2638': 0, '2682': 5, '2982': 1, '4207': 8, '4480': 9, '2010': 1, '3421': 1, '5201': 4, '2154': 1, '3715': 3, '2453': 3, '2525': 3, '4087': 3, '5200': 4, '2115': 0, '3188': 4, '2178': 0, '3211': 1, '4151': 7, '2500': 2, '2432': 2, '2808': 7, '3086': 4, '4968': 9, '2043': 8, '3438': 1, '2837': 7, '2972': 0, '2626': 1, '2264': 4, '4166': 0, '3299': 3, '2753': 8, '3467': 9, '3999': 9, '2063': 7, '4832': 6, '4485': 7, '3611': 2, '4094': 5, '3678': 5, '4486': 8, '2139': 3, '2408': 3, '1890': 2, '4725': 2, '3929': 8, '4282': 0, '4137': 8, '3109': 7, '2049': 9, '4271': 3, '1913': 3, '2030': 5, '3559': 8, '4194': 4, '4631': 0, '4997': 2, '3215': 0, '2180': 5, '4056': 5, '2609': 6, '4875': 6, '4567': 9, '2890': 7, '3785': 2, '3989': 0, '3700': 4, '3547': 2, '4085': 1, '4680': 6, '2676': 1, '3055': 7, '4520': 5, '4155': 0, '3305': 0, '2552': 8, '2249': 4, '2827': 1, '1892': 0, '5041': 8, '4095': 9, '5032': 4, '2483': 6, '4032': 1, '3403': 6, '5004': 4, '3348': 8, '3675': 2, '3365': 6, '4278': 0, '2581': 5, '4349': 1, '4063': 5, '2980': 6, '3560': 6, '1907': 0, '5050': 9, '4341': 3, '1904': 9, '4249': 1, '4472': 5, '4070': 0, '3134': 2, '2280': 3, '4177': 5, '4090': 0, '3972': 6, '4946': 4, '2352': 6, '2567': 7, '2255': 3, '5077': 7, '3275': 3, '3708': 8, '4932': 1, '2508': 6, '4839': 8, '3182': 6, '1853': 9, '4871': 1, '2122': 2, '3788': 5, '3550': 6, '2416': 1, '4142': 7, '4659': 9, '5158': 3, '5124': 0, '3116': 2, '4512': 6, '4477': 0, '2660': 0, '3809': 1, '4351': 0, '2116': 6, '3483': 9, '2763': 0, '4553': 9, '3563': 8, '2657': 0, '1870': 0, '4784': 7, '3807': 8, '3588': 8, '4387': 2, '3473': 8, '5146': 3, '1975': 7, '4948': 8, '2575': 3, '3040': 7, '4944': 2, '4929': 4, '4965': 2, '3454': 1, '3495': 4, '2576': 1, '4864': 1, '3319': 8, '5055': 4, '2494': 9, '4749': 5, '4128': 3, '3123': 4, '4621': 3, '3528': 3, '2651': 6, '3500': 4, '4257': 9, '3399': 7, '4709': 2, '3412': 0, '4170': 1, '4887': 0, '2209': 0, '4870': 2, '3104': 3, '2436': 4, '2225': 8, '4372': 8, '2924': 3, '3013': 0, '4831': 6, '3534': 4, '4590': 4, '5205': 7, '3825': 3, '2234': 7, '4119': 7, '2156': 6, '3652': 1, '2797': 5, '3270': 6, '4962': 2, '3309': 7, '2269': 2, '2060': 0, '5042': 9, '4036': 1, '2722': 1, '3753': 7, '2252': 7, '4316': 9, '5114': 7, '2853': 3, '4759': 1, '3885': 9, '2496': 2, '2464': 4, '3980': 0, '4261': 5, '4628': 0, '2188': 0, '2124': 4, '1953': 3, '4901': 9, '5198': 8, '2758': 3, '5119': 2, '1984': 2, '4371': 8, '4384': 2, '3463': 4, '3852': 1, '3231': 1, '3625': 1, '2004': 8, '3548': 3, '4822': 8, '2788': 1, '2094': 4, '1982': 5, '3645': 5, '3689': 1, '2927': 2, '3874': 9, '2046': 4, '2560': 3, '2324': 1, '3861': 9, '4605': 3, '2166': 1, '2029': 5, '4039': 1, '2990': 8, '2510': 1, '2723': 3, '4164': 3, '2014': 9, '2589': 9, '1938': 2, '4931': 1, '2274': 9, '4920': 2, '4122': 9, '2451': 8, '4497': 7, '5133': 0, '4504': 2, '5022': 9, '4227': 0, '2844': 7, '2342': 9, '2239': 1, '3966': 9, '4408': 9, '3179': 0, '3111': 7, '4118': 5, '2134': 5, '2458': 6, '2468': 6, '3718': 9, '4781': 7, '4588': 1, '2475': 2, '4374': 6, '3824': 3, '2463': 7, '3471': 1, '4937': 0, '3517': 4, '3166': 9, '3303': 7, '2401': 4, '3250': 2, '4514': 4, '2876': 6, '5185': 3, '2437': 2, '3169': 4, '2724': 8, '4375': 8, '3089': 2, '2084': 4, '2820': 7, '3851': 1, '3282': 4, '3491': 9, '2664': 2, '2487': 5, '2087': 0, '1862': 4, '2196': 9, '4159': 8, '3322': 0, '3519': 8, '2406': 8, '4533': 1, '5125': 2, '4645': 5, '2822': 1, '3597': 3, '3285': 3, '4717': 1, '4019': 6, '4379': 4, '5047': 4, '4773': 7, '3564': 6, '5140': 2, '4283': 9, '4877': 1, '3241': 9, '3866': 1, '2364': 3, '2035': 3, '4433': 3, '2633': 9, '3870': 0, '4215': 7, '4778': 1, '4848': 2, '4273': 1, '2854': 9, '3937': 1, '4290': 8, '2803': 1, '2548': 9, '3701': 3, '3317': 0, '4878': 2, '4394': 6, '2645': 4, '1894': 9, '1909': 1, '4729': 1, '5123': 4, '4925': 3, '2005': 4, '3315': 0, '5096': 4, '2023': 0, '4411': 8, '3792': 4, '3307': 6, '5024': 2, '3830': 0, '2830': 6, '2021': 5, '4343': 0, '3706': 0, '5082': 4, '2739': 8, '3201': 2, '3010': 3, '2953': 5, '2584': 8, '4524': 1, '3882': 8, '4683': 9, '3084': 9, '5177': 9, '2194': 6, '2090': 4, '2421': 1, '5008': 0, '2396': 2, '4318': 1, '3464': 1, '2107': 8, '2417': 0, '3131': 3, '4522': 7, '4435': 3, '3039': 1, '2078': 5, '2989': 3, '1997': 3, '4449': 0, '4572': 8, '2207': 5, '4623': 7, '3120': 3, '2765': 0, '3763': 4, '2955': 3, '5137': 9, '2526': 3, '4607': 6, '2602': 2, '2333': 0, '2800': 8, '2847': 4, '2011': 3, '4564': 1, '2137': 1, '3475': 3, '2720': 9, '3334': 5, '3185': 0, '3821': 9, '4604': 0, '3906': 3, '2320': 9, '4838': 6, '1901': 4, '4077': 1, '2768': 5, '3263': 8, '5064': 7, '2531': 0, '4386': 1, '3664': 9, '4856': 9, '4775': 2, '3041': 9, '1983': 3, '3490': 9, '2171': 1, '4525': 1, '2734': 1, '3465': 4, '5116': 6, '2802': 2, '5129': 8, '4972': 1, '2888': 7, '2187': 7, '2815': 1, '5121': 7, '2042': 0, '4149': 2, '2642': 7, '4824': 0, '2770': 3, '2595': 7, '2388': 6, '4075': 0, '3789': 1, '3439': 0, '3673': 1, '4229': 4, '1928': 3, '2629': 3, '2954': 0, '3437': 9, '3886': 6, '2211': 8, '3739': 3, '4064': 7, '2538': 9, '3594': 7, '4412': 6, '3266': 0, '4620': 6, '3926': 3, '3251': 0, '3301': 2, '4690': 7, '2016': 2, '2752': 2, '3024': 4, '4043': 0, '3570': 5, '2282': 3, '4496': 8, '2153': 3, '3139': 8, '2793': 8, '2210': 6, '4894': 3, '2105': 3, '2798': 5, '1910': 5, '3520': 4, '3221': 3, '3663': 5, '2474': 7, '3769': 3, '2882': 4, '2434': 1, '3436': 2, '2549': 3, '2480': 7, '4643': 1, '4327': 0, '3433': 1, '2678': 4, '1873': 9, '2318': 0, '3447': 6, '3590': 5, '2297': 8, '4393': 3, '4823': 4, '3494': 7, '4131': 3, '3876': 2, '4234': 3, '2467': 8, '4240': 9, '3108': 3, '3934': 8, '2412': 2, '1958': 4, '4755': 3, '1867': 1, '3987': 8, '4124': 8, '3016': 0, '2866': 6, '1971': 6, '3252': 6, '4570': 9, '1985': 4, '3398': 6, '1992': 9, '3293': 2, '4220': 3, '3073': 2, '4985': 2, '1903': 7, '4593': 7, '4246': 8, '2957': 5, '4115': 2, '4818': 3, '3605': 1, '4217': 4, '2373': 4, '2714': 0, '2691': 8, '1947': 2, '2024': 9, '4179': 1, '2826': 6, '2433': 1, '2894': 0, '3734': 0, '5057': 6, '2268': 7, '5031': 0, '1165': 9, '1161': 6, '1559': 3, '291': 2, '1808': 0, '1061': 0, '590': 3, '1553': 3, '397': 5, '605': 9, '1658': 2, '1635': 5, '801': 3, '895': 0, '569': 3, '1509': 4, '113': 9, '1759': 8, '1371': 8, '197': 6, '905': 2, '1586': 3, '534': 6, '1699': 7, '1179': 1, '570': 5, '167': 5, '567': 0, '420': 4, '699': 3, '584': 1, '1260': 1, '1056': 2, '1105': 9, '208': 2, '571': 9, '1077': 4, '718': 8, '914': 8, '1078': 4, '247': 2, '254': 7, '1443': 8, '728': 2, '1066': 3, '1316': 1, '1044': 8, '1724': 4, '1730': 3, '1173': 9, '1809': 7, '1571': 9, '299': 8, '1038': 1, '689': 9, '986': 6, '378': 1, '667': 3, '387': 2, '202': 1, '1262': 2, '263': 7, '481': 9, '170': 4, '885': 6, '493': 3, '195': 3, '450': 3, '1685': 6, '1311': 9, '225': 2, '1446': 2, '1427': 4, '846': 9, '339': 6, '1464': 8, '692': 5, '1101': 8, '1543': 7, '959': 9, '723': 0, '554': 7, '533': 4, '844': 7, '393': 1, '574': 3, '1000': 9, '622': 4, '1630': 1, '717': 6, '60': 7, '1349': 2, '1502': 8, '135': 1, '294': 0, '1231': 0, '241': 3, '1145': 4, '1327': 9, '1629': 5, '1062': 3, '79': 7, '830': 2, '337': 7, '1765': 3, '665': 6, '1059': 4, '1498': 7, '1739': 0, '1404': 0, '457': 6, '1326': 2, '277': 8, '1172': 3, '1845': 3, '842': 7, '213': 3, '1292': 6, '35': 2, '275': 4, '619': 8, '1385': 9, '669': 3, '106': 2, '1041': 5, '1507': 7, '151': 9, '1108': 6, '296': 0, '968': 4, '292': 9, '1023': 4, '233': 7, '766': 5, '41': 7, '962': 9, '74': 1, '1194': 9, '1462': 2, '423': 2, '649': 7, '114': 7, '300': 6, '1374': 2, '1373': 6, '1099': 6, '521': 9, '1671': 7, '1094': 0, '1058': 9, '367': 5, '1648': 9, '491': 5, '1362': 6, '871': 0, '1158': 4, '1142': 4, '109': 4, '1660': 7, '865': 3, '1206': 2, '1545': 9, '731': 2, '724': 6, '757': 4, '1011': 1, '305': 0, '196': 1, '1103': 9, '641': 8, '1708': 0, '1554': 9, '327': 0, '1325': 6, '621': 8, '1048': 9, '363': 2, '1585': 2, '592': 0, '376': 4, '32': 3, '875': 2, '1393': 3, '1150': 3, '1322': 9, '484': 4, '730': 7, '1182': 8, '215': 0, '1567': 8, '799': 2, '1598': 5, '610': 2, '1031': 2, '614': 3, '1761': 5, '168': 1, '812': 5, '343': 3, '821': 0, '89': 1, '266': 8, '550': 7, '1294': 0, '1176': 0, '1045': 9, '1525': 0, '1243': 5, '176': 1, '881': 9, '427': 1, '1736': 1, '1747': 5, '1490': 3, '1233': 5, '348': 1, '1727': 3, '553': 8, '1582': 1, '916': 4, '271': 0, '269': 0, '1022': 5, '1725': 6, '638': 5, '70': 7, '1035': 6, '528': 3, '422': 9, '1074': 8, '1644': 2, '523': 1, '836': 1, '951': 4, '927': 3, '262': 7, '1832': 3, '1135': 5, '682': 1, '1307': 6, '581': 0, '880': 7, '719': 4, '507': 3, '141': 7, '882': 9, '1659': 1, '489': 1, '1086': 9, '536': 2, '773': 9, '769': 6, '496': 9, '119': 2, '1527': 6, '1043': 4, '1491': 6, '326': 2, '364': 5, '1013': 9, '1781': 9, '1240': 1, '111': 7, '967': 1, '662': 9, '1116': 4, '1818': 6, '958': 3, '1209': 6, '1531': 3, '1345': 2, '1846': 5, '455': 1, '847': 3, '322': 9, '1701': 4, '1796': 0, '150': 9, '778': 5, '1672': 5, '391': 2, '152': 5, '806': 8, '1552': 4, '887': 3, '1673': 1, '811': 3, '532': 4, '485': 0, '1364': 2, '117': 4, '863': 2, '629': 6, '31': 1, '1475': 6, '1696': 2, '611': 0, '1678': 0, '697': 4, '870': 6, '1455': 9, '166': 4, '441': 0, '624': 2, '86': 7, '464': 3, '1183': 9, '234': 7, '359': 9, '313': 3, '1249': 8, '83': 7, '1707': 1, '1335': 2, '973': 6, '1237': 2, '686': 3, '1126': 7, '1312': 8, '1508': 9, '1518': 2, '356': 5, '1255': 9, '1236': 1, '932': 0, '244': 2, '596': 8, '1682': 2, '478': 8, '437': 3, '1556': 8, '1122': 7, '1392': 1, '1664': 8, '841': 7, '994': 1, '1819': 6, '463': 6, '748': 4, '931': 4, '588': 5, '644': 0, '1583': 8, '30': 3, '88': 6, '936': 8, '1034': 0, '239': 1, '309': 3, '404': 2, '1230': 4, '900': 3, '412': 3, '1623': 0, '864': 8, '1197': 0, '131': 6, '1459': 2, '1347': 9, '214': 9, '342': 1, '1794': 0, '1093': 8, '255': 7, '93': 3, '1160': 4, '1100': 7, '1198': 8, '1186': 7, '434': 9}}\n"
          ]
        }
      ]
    },
    {
      "cell_type": "code",
      "source": [
        "submit(query)"
      ],
      "metadata": {
        "colab": {
          "base_uri": "https://localhost:8080/",
          "height": 644
        },
        "id": "c9BXCKKQoXxu",
        "outputId": "e668e41b-2f15-435e-c585-d837ec9b4c0f"
      },
      "execution_count": 35,
      "outputs": [
        {
          "output_type": "error",
          "ename": "ConnectionError",
          "evalue": "ignored",
          "traceback": [
            "\u001b[0;31m---------------------------------------------------------------------------\u001b[0m",
            "\u001b[0;31mgaierror\u001b[0m                                  Traceback (most recent call last)",
            "\u001b[0;32m/usr/local/lib/python3.9/dist-packages/urllib3/connection.py\u001b[0m in \u001b[0;36m_new_conn\u001b[0;34m(self)\u001b[0m\n\u001b[1;32m    173\u001b[0m         \u001b[0;32mtry\u001b[0m\u001b[0;34m:\u001b[0m\u001b[0;34m\u001b[0m\u001b[0;34m\u001b[0m\u001b[0m\n\u001b[0;32m--> 174\u001b[0;31m             conn = connection.create_connection(\n\u001b[0m\u001b[1;32m    175\u001b[0m                 \u001b[0;34m(\u001b[0m\u001b[0mself\u001b[0m\u001b[0;34m.\u001b[0m\u001b[0m_dns_host\u001b[0m\u001b[0;34m,\u001b[0m \u001b[0mself\u001b[0m\u001b[0;34m.\u001b[0m\u001b[0mport\u001b[0m\u001b[0;34m)\u001b[0m\u001b[0;34m,\u001b[0m \u001b[0mself\u001b[0m\u001b[0;34m.\u001b[0m\u001b[0mtimeout\u001b[0m\u001b[0;34m,\u001b[0m \u001b[0;34m**\u001b[0m\u001b[0mextra_kw\u001b[0m\u001b[0;34m\u001b[0m\u001b[0;34m\u001b[0m\u001b[0m\n",
            "\u001b[0;32m/usr/local/lib/python3.9/dist-packages/urllib3/util/connection.py\u001b[0m in \u001b[0;36mcreate_connection\u001b[0;34m(address, timeout, source_address, socket_options)\u001b[0m\n\u001b[1;32m     71\u001b[0m \u001b[0;34m\u001b[0m\u001b[0m\n\u001b[0;32m---> 72\u001b[0;31m     \u001b[0;32mfor\u001b[0m \u001b[0mres\u001b[0m \u001b[0;32min\u001b[0m \u001b[0msocket\u001b[0m\u001b[0;34m.\u001b[0m\u001b[0mgetaddrinfo\u001b[0m\u001b[0;34m(\u001b[0m\u001b[0mhost\u001b[0m\u001b[0;34m,\u001b[0m \u001b[0mport\u001b[0m\u001b[0;34m,\u001b[0m \u001b[0mfamily\u001b[0m\u001b[0;34m,\u001b[0m \u001b[0msocket\u001b[0m\u001b[0;34m.\u001b[0m\u001b[0mSOCK_STREAM\u001b[0m\u001b[0;34m)\u001b[0m\u001b[0;34m:\u001b[0m\u001b[0;34m\u001b[0m\u001b[0;34m\u001b[0m\u001b[0m\n\u001b[0m\u001b[1;32m     73\u001b[0m         \u001b[0maf\u001b[0m\u001b[0;34m,\u001b[0m \u001b[0msocktype\u001b[0m\u001b[0;34m,\u001b[0m \u001b[0mproto\u001b[0m\u001b[0;34m,\u001b[0m \u001b[0mcanonname\u001b[0m\u001b[0;34m,\u001b[0m \u001b[0msa\u001b[0m \u001b[0;34m=\u001b[0m \u001b[0mres\u001b[0m\u001b[0;34m\u001b[0m\u001b[0;34m\u001b[0m\u001b[0m\n",
            "\u001b[0;32m/usr/lib/python3.9/socket.py\u001b[0m in \u001b[0;36mgetaddrinfo\u001b[0;34m(host, port, family, type, proto, flags)\u001b[0m\n\u001b[1;32m    953\u001b[0m     \u001b[0maddrlist\u001b[0m \u001b[0;34m=\u001b[0m \u001b[0;34m[\u001b[0m\u001b[0;34m]\u001b[0m\u001b[0;34m\u001b[0m\u001b[0;34m\u001b[0m\u001b[0m\n\u001b[0;32m--> 954\u001b[0;31m     \u001b[0;32mfor\u001b[0m \u001b[0mres\u001b[0m \u001b[0;32min\u001b[0m \u001b[0m_socket\u001b[0m\u001b[0;34m.\u001b[0m\u001b[0mgetaddrinfo\u001b[0m\u001b[0;34m(\u001b[0m\u001b[0mhost\u001b[0m\u001b[0;34m,\u001b[0m \u001b[0mport\u001b[0m\u001b[0;34m,\u001b[0m \u001b[0mfamily\u001b[0m\u001b[0;34m,\u001b[0m \u001b[0mtype\u001b[0m\u001b[0;34m,\u001b[0m \u001b[0mproto\u001b[0m\u001b[0;34m,\u001b[0m \u001b[0mflags\u001b[0m\u001b[0;34m)\u001b[0m\u001b[0;34m:\u001b[0m\u001b[0;34m\u001b[0m\u001b[0;34m\u001b[0m\u001b[0m\n\u001b[0m\u001b[1;32m    955\u001b[0m         \u001b[0maf\u001b[0m\u001b[0;34m,\u001b[0m \u001b[0msocktype\u001b[0m\u001b[0;34m,\u001b[0m \u001b[0mproto\u001b[0m\u001b[0;34m,\u001b[0m \u001b[0mcanonname\u001b[0m\u001b[0;34m,\u001b[0m \u001b[0msa\u001b[0m \u001b[0;34m=\u001b[0m \u001b[0mres\u001b[0m\u001b[0;34m\u001b[0m\u001b[0;34m\u001b[0m\u001b[0m\n",
            "\u001b[0;31mgaierror\u001b[0m: [Errno -2] Name or service not known",
            "\nDuring handling of the above exception, another exception occurred:\n",
            "\u001b[0;31mNewConnectionError\u001b[0m                        Traceback (most recent call last)",
            "\u001b[0;32m/usr/local/lib/python3.9/dist-packages/urllib3/connectionpool.py\u001b[0m in \u001b[0;36murlopen\u001b[0;34m(self, method, url, body, headers, retries, redirect, assert_same_host, timeout, pool_timeout, release_conn, chunked, body_pos, **response_kw)\u001b[0m\n\u001b[1;32m    702\u001b[0m             \u001b[0;31m# Make the request on the httplib connection object.\u001b[0m\u001b[0;34m\u001b[0m\u001b[0;34m\u001b[0m\u001b[0m\n\u001b[0;32m--> 703\u001b[0;31m             httplib_response = self._make_request(\n\u001b[0m\u001b[1;32m    704\u001b[0m                 \u001b[0mconn\u001b[0m\u001b[0;34m,\u001b[0m\u001b[0;34m\u001b[0m\u001b[0;34m\u001b[0m\u001b[0m\n",
            "\u001b[0;32m/usr/local/lib/python3.9/dist-packages/urllib3/connectionpool.py\u001b[0m in \u001b[0;36m_make_request\u001b[0;34m(self, conn, method, url, timeout, chunked, **httplib_request_kw)\u001b[0m\n\u001b[1;32m    397\u001b[0m             \u001b[0;32melse\u001b[0m\u001b[0;34m:\u001b[0m\u001b[0;34m\u001b[0m\u001b[0;34m\u001b[0m\u001b[0m\n\u001b[0;32m--> 398\u001b[0;31m                 \u001b[0mconn\u001b[0m\u001b[0;34m.\u001b[0m\u001b[0mrequest\u001b[0m\u001b[0;34m(\u001b[0m\u001b[0mmethod\u001b[0m\u001b[0;34m,\u001b[0m \u001b[0murl\u001b[0m\u001b[0;34m,\u001b[0m \u001b[0;34m**\u001b[0m\u001b[0mhttplib_request_kw\u001b[0m\u001b[0;34m)\u001b[0m\u001b[0;34m\u001b[0m\u001b[0;34m\u001b[0m\u001b[0m\n\u001b[0m\u001b[1;32m    399\u001b[0m \u001b[0;34m\u001b[0m\u001b[0m\n",
            "\u001b[0;32m/usr/local/lib/python3.9/dist-packages/urllib3/connection.py\u001b[0m in \u001b[0;36mrequest\u001b[0;34m(self, method, url, body, headers)\u001b[0m\n\u001b[1;32m    243\u001b[0m             \u001b[0mheaders\u001b[0m\u001b[0;34m[\u001b[0m\u001b[0;34m\"User-Agent\"\u001b[0m\u001b[0;34m]\u001b[0m \u001b[0;34m=\u001b[0m \u001b[0m_get_default_user_agent\u001b[0m\u001b[0;34m(\u001b[0m\u001b[0;34m)\u001b[0m\u001b[0;34m\u001b[0m\u001b[0;34m\u001b[0m\u001b[0m\n\u001b[0;32m--> 244\u001b[0;31m         \u001b[0msuper\u001b[0m\u001b[0;34m(\u001b[0m\u001b[0mHTTPConnection\u001b[0m\u001b[0;34m,\u001b[0m \u001b[0mself\u001b[0m\u001b[0;34m)\u001b[0m\u001b[0;34m.\u001b[0m\u001b[0mrequest\u001b[0m\u001b[0;34m(\u001b[0m\u001b[0mmethod\u001b[0m\u001b[0;34m,\u001b[0m \u001b[0murl\u001b[0m\u001b[0;34m,\u001b[0m \u001b[0mbody\u001b[0m\u001b[0;34m=\u001b[0m\u001b[0mbody\u001b[0m\u001b[0;34m,\u001b[0m \u001b[0mheaders\u001b[0m\u001b[0;34m=\u001b[0m\u001b[0mheaders\u001b[0m\u001b[0;34m)\u001b[0m\u001b[0;34m\u001b[0m\u001b[0;34m\u001b[0m\u001b[0m\n\u001b[0m\u001b[1;32m    245\u001b[0m \u001b[0;34m\u001b[0m\u001b[0m\n",
            "\u001b[0;32m/usr/lib/python3.9/http/client.py\u001b[0m in \u001b[0;36mrequest\u001b[0;34m(self, method, url, body, headers, encode_chunked)\u001b[0m\n\u001b[1;32m   1284\u001b[0m         \u001b[0;34m\"\"\"Send a complete request to the server.\"\"\"\u001b[0m\u001b[0;34m\u001b[0m\u001b[0;34m\u001b[0m\u001b[0m\n\u001b[0;32m-> 1285\u001b[0;31m         \u001b[0mself\u001b[0m\u001b[0;34m.\u001b[0m\u001b[0m_send_request\u001b[0m\u001b[0;34m(\u001b[0m\u001b[0mmethod\u001b[0m\u001b[0;34m,\u001b[0m \u001b[0murl\u001b[0m\u001b[0;34m,\u001b[0m \u001b[0mbody\u001b[0m\u001b[0;34m,\u001b[0m \u001b[0mheaders\u001b[0m\u001b[0;34m,\u001b[0m \u001b[0mencode_chunked\u001b[0m\u001b[0;34m)\u001b[0m\u001b[0;34m\u001b[0m\u001b[0;34m\u001b[0m\u001b[0m\n\u001b[0m\u001b[1;32m   1286\u001b[0m \u001b[0;34m\u001b[0m\u001b[0m\n",
            "\u001b[0;32m/usr/lib/python3.9/http/client.py\u001b[0m in \u001b[0;36m_send_request\u001b[0;34m(self, method, url, body, headers, encode_chunked)\u001b[0m\n\u001b[1;32m   1330\u001b[0m             \u001b[0mbody\u001b[0m \u001b[0;34m=\u001b[0m \u001b[0m_encode\u001b[0m\u001b[0;34m(\u001b[0m\u001b[0mbody\u001b[0m\u001b[0;34m,\u001b[0m \u001b[0;34m'body'\u001b[0m\u001b[0;34m)\u001b[0m\u001b[0;34m\u001b[0m\u001b[0;34m\u001b[0m\u001b[0m\n\u001b[0;32m-> 1331\u001b[0;31m         \u001b[0mself\u001b[0m\u001b[0;34m.\u001b[0m\u001b[0mendheaders\u001b[0m\u001b[0;34m(\u001b[0m\u001b[0mbody\u001b[0m\u001b[0;34m,\u001b[0m \u001b[0mencode_chunked\u001b[0m\u001b[0;34m=\u001b[0m\u001b[0mencode_chunked\u001b[0m\u001b[0;34m)\u001b[0m\u001b[0;34m\u001b[0m\u001b[0;34m\u001b[0m\u001b[0m\n\u001b[0m\u001b[1;32m   1332\u001b[0m \u001b[0;34m\u001b[0m\u001b[0m\n",
            "\u001b[0;32m/usr/lib/python3.9/http/client.py\u001b[0m in \u001b[0;36mendheaders\u001b[0;34m(self, message_body, encode_chunked)\u001b[0m\n\u001b[1;32m   1279\u001b[0m             \u001b[0;32mraise\u001b[0m \u001b[0mCannotSendHeader\u001b[0m\u001b[0;34m(\u001b[0m\u001b[0;34m)\u001b[0m\u001b[0;34m\u001b[0m\u001b[0;34m\u001b[0m\u001b[0m\n\u001b[0;32m-> 1280\u001b[0;31m         \u001b[0mself\u001b[0m\u001b[0;34m.\u001b[0m\u001b[0m_send_output\u001b[0m\u001b[0;34m(\u001b[0m\u001b[0mmessage_body\u001b[0m\u001b[0;34m,\u001b[0m \u001b[0mencode_chunked\u001b[0m\u001b[0;34m=\u001b[0m\u001b[0mencode_chunked\u001b[0m\u001b[0;34m)\u001b[0m\u001b[0;34m\u001b[0m\u001b[0;34m\u001b[0m\u001b[0m\n\u001b[0m\u001b[1;32m   1281\u001b[0m \u001b[0;34m\u001b[0m\u001b[0m\n",
            "\u001b[0;32m/usr/lib/python3.9/http/client.py\u001b[0m in \u001b[0;36m_send_output\u001b[0;34m(self, message_body, encode_chunked)\u001b[0m\n\u001b[1;32m   1039\u001b[0m         \u001b[0;32mdel\u001b[0m \u001b[0mself\u001b[0m\u001b[0;34m.\u001b[0m\u001b[0m_buffer\u001b[0m\u001b[0;34m[\u001b[0m\u001b[0;34m:\u001b[0m\u001b[0;34m]\u001b[0m\u001b[0;34m\u001b[0m\u001b[0;34m\u001b[0m\u001b[0m\n\u001b[0;32m-> 1040\u001b[0;31m         \u001b[0mself\u001b[0m\u001b[0;34m.\u001b[0m\u001b[0msend\u001b[0m\u001b[0;34m(\u001b[0m\u001b[0mmsg\u001b[0m\u001b[0;34m)\u001b[0m\u001b[0;34m\u001b[0m\u001b[0;34m\u001b[0m\u001b[0m\n\u001b[0m\u001b[1;32m   1041\u001b[0m \u001b[0;34m\u001b[0m\u001b[0m\n",
            "\u001b[0;32m/usr/lib/python3.9/http/client.py\u001b[0m in \u001b[0;36msend\u001b[0;34m(self, data)\u001b[0m\n\u001b[1;32m    979\u001b[0m             \u001b[0;32mif\u001b[0m \u001b[0mself\u001b[0m\u001b[0;34m.\u001b[0m\u001b[0mauto_open\u001b[0m\u001b[0;34m:\u001b[0m\u001b[0;34m\u001b[0m\u001b[0;34m\u001b[0m\u001b[0m\n\u001b[0;32m--> 980\u001b[0;31m                 \u001b[0mself\u001b[0m\u001b[0;34m.\u001b[0m\u001b[0mconnect\u001b[0m\u001b[0;34m(\u001b[0m\u001b[0;34m)\u001b[0m\u001b[0;34m\u001b[0m\u001b[0;34m\u001b[0m\u001b[0m\n\u001b[0m\u001b[1;32m    981\u001b[0m             \u001b[0;32melse\u001b[0m\u001b[0;34m:\u001b[0m\u001b[0;34m\u001b[0m\u001b[0;34m\u001b[0m\u001b[0m\n",
            "\u001b[0;32m/usr/local/lib/python3.9/dist-packages/urllib3/connection.py\u001b[0m in \u001b[0;36mconnect\u001b[0;34m(self)\u001b[0m\n\u001b[1;32m    204\u001b[0m     \u001b[0;32mdef\u001b[0m \u001b[0mconnect\u001b[0m\u001b[0;34m(\u001b[0m\u001b[0mself\u001b[0m\u001b[0;34m)\u001b[0m\u001b[0;34m:\u001b[0m\u001b[0;34m\u001b[0m\u001b[0;34m\u001b[0m\u001b[0m\n\u001b[0;32m--> 205\u001b[0;31m         \u001b[0mconn\u001b[0m \u001b[0;34m=\u001b[0m \u001b[0mself\u001b[0m\u001b[0;34m.\u001b[0m\u001b[0m_new_conn\u001b[0m\u001b[0;34m(\u001b[0m\u001b[0;34m)\u001b[0m\u001b[0;34m\u001b[0m\u001b[0;34m\u001b[0m\u001b[0m\n\u001b[0m\u001b[1;32m    206\u001b[0m         \u001b[0mself\u001b[0m\u001b[0;34m.\u001b[0m\u001b[0m_prepare_conn\u001b[0m\u001b[0;34m(\u001b[0m\u001b[0mconn\u001b[0m\u001b[0;34m)\u001b[0m\u001b[0;34m\u001b[0m\u001b[0;34m\u001b[0m\u001b[0m\n",
            "\u001b[0;32m/usr/local/lib/python3.9/dist-packages/urllib3/connection.py\u001b[0m in \u001b[0;36m_new_conn\u001b[0;34m(self)\u001b[0m\n\u001b[1;32m    185\u001b[0m         \u001b[0;32mexcept\u001b[0m \u001b[0mSocketError\u001b[0m \u001b[0;32mas\u001b[0m \u001b[0me\u001b[0m\u001b[0;34m:\u001b[0m\u001b[0;34m\u001b[0m\u001b[0;34m\u001b[0m\u001b[0m\n\u001b[0;32m--> 186\u001b[0;31m             raise NewConnectionError(\n\u001b[0m\u001b[1;32m    187\u001b[0m                 \u001b[0mself\u001b[0m\u001b[0;34m,\u001b[0m \u001b[0;34m\"Failed to establish a new connection: %s\"\u001b[0m \u001b[0;34m%\u001b[0m \u001b[0me\u001b[0m\u001b[0;34m\u001b[0m\u001b[0;34m\u001b[0m\u001b[0m\n",
            "\u001b[0;31mNewConnectionError\u001b[0m: <urllib3.connection.HTTPConnection object at 0x7f15880bed00>: Failed to establish a new connection: [Errno -2] Name or service not known",
            "\nDuring handling of the above exception, another exception occurred:\n",
            "\u001b[0;31mMaxRetryError\u001b[0m                             Traceback (most recent call last)",
            "\u001b[0;32m/usr/local/lib/python3.9/dist-packages/requests/adapters.py\u001b[0m in \u001b[0;36msend\u001b[0;34m(self, request, stream, timeout, verify, cert, proxies)\u001b[0m\n\u001b[1;32m    439\u001b[0m             \u001b[0;32mif\u001b[0m \u001b[0;32mnot\u001b[0m \u001b[0mchunked\u001b[0m\u001b[0;34m:\u001b[0m\u001b[0;34m\u001b[0m\u001b[0;34m\u001b[0m\u001b[0m\n\u001b[0;32m--> 440\u001b[0;31m                 resp = conn.urlopen(\n\u001b[0m\u001b[1;32m    441\u001b[0m                     \u001b[0mmethod\u001b[0m\u001b[0;34m=\u001b[0m\u001b[0mrequest\u001b[0m\u001b[0;34m.\u001b[0m\u001b[0mmethod\u001b[0m\u001b[0;34m,\u001b[0m\u001b[0;34m\u001b[0m\u001b[0;34m\u001b[0m\u001b[0m\n",
            "\u001b[0;32m/usr/local/lib/python3.9/dist-packages/urllib3/connectionpool.py\u001b[0m in \u001b[0;36murlopen\u001b[0;34m(self, method, url, body, headers, retries, redirect, assert_same_host, timeout, pool_timeout, release_conn, chunked, body_pos, **response_kw)\u001b[0m\n\u001b[1;32m    786\u001b[0m \u001b[0;34m\u001b[0m\u001b[0m\n\u001b[0;32m--> 787\u001b[0;31m             retries = retries.increment(\n\u001b[0m\u001b[1;32m    788\u001b[0m                 \u001b[0mmethod\u001b[0m\u001b[0;34m,\u001b[0m \u001b[0murl\u001b[0m\u001b[0;34m,\u001b[0m \u001b[0merror\u001b[0m\u001b[0;34m=\u001b[0m\u001b[0me\u001b[0m\u001b[0;34m,\u001b[0m \u001b[0m_pool\u001b[0m\u001b[0;34m=\u001b[0m\u001b[0mself\u001b[0m\u001b[0;34m,\u001b[0m \u001b[0m_stacktrace\u001b[0m\u001b[0;34m=\u001b[0m\u001b[0msys\u001b[0m\u001b[0;34m.\u001b[0m\u001b[0mexc_info\u001b[0m\u001b[0;34m(\u001b[0m\u001b[0;34m)\u001b[0m\u001b[0;34m[\u001b[0m\u001b[0;36m2\u001b[0m\u001b[0;34m]\u001b[0m\u001b[0;34m\u001b[0m\u001b[0;34m\u001b[0m\u001b[0m\n",
            "\u001b[0;32m/usr/local/lib/python3.9/dist-packages/urllib3/util/retry.py\u001b[0m in \u001b[0;36mincrement\u001b[0;34m(self, method, url, response, error, _pool, _stacktrace)\u001b[0m\n\u001b[1;32m    591\u001b[0m         \u001b[0;32mif\u001b[0m \u001b[0mnew_retry\u001b[0m\u001b[0;34m.\u001b[0m\u001b[0mis_exhausted\u001b[0m\u001b[0;34m(\u001b[0m\u001b[0;34m)\u001b[0m\u001b[0;34m:\u001b[0m\u001b[0;34m\u001b[0m\u001b[0;34m\u001b[0m\u001b[0m\n\u001b[0;32m--> 592\u001b[0;31m             \u001b[0;32mraise\u001b[0m \u001b[0mMaxRetryError\u001b[0m\u001b[0;34m(\u001b[0m\u001b[0m_pool\u001b[0m\u001b[0;34m,\u001b[0m \u001b[0murl\u001b[0m\u001b[0;34m,\u001b[0m \u001b[0merror\u001b[0m \u001b[0;32mor\u001b[0m \u001b[0mResponseError\u001b[0m\u001b[0;34m(\u001b[0m\u001b[0mcause\u001b[0m\u001b[0;34m)\u001b[0m\u001b[0;34m)\u001b[0m\u001b[0;34m\u001b[0m\u001b[0;34m\u001b[0m\u001b[0m\n\u001b[0m\u001b[1;32m    593\u001b[0m \u001b[0;34m\u001b[0m\u001b[0m\n",
            "\u001b[0;31mMaxRetryError\u001b[0m: HTTPConnectionPool(host='coruscant.disi.unitn.it', port=3001): Max retries exceeded with url: /results/ (Caused by NewConnectionError('<urllib3.connection.HTTPConnection object at 0x7f15880bed00>: Failed to establish a new connection: [Errno -2] Name or service not known'))",
            "\nDuring handling of the above exception, another exception occurred:\n",
            "\u001b[0;31mConnectionError\u001b[0m                           Traceback (most recent call last)",
            "\u001b[0;32m<ipython-input-35-f23c0d75ca9b>\u001b[0m in \u001b[0;36m<cell line: 1>\u001b[0;34m()\u001b[0m\n\u001b[0;32m----> 1\u001b[0;31m \u001b[0msubmit\u001b[0m\u001b[0;34m(\u001b[0m\u001b[0mquery\u001b[0m\u001b[0;34m)\u001b[0m\u001b[0;34m\u001b[0m\u001b[0;34m\u001b[0m\u001b[0m\n\u001b[0m",
            "\u001b[0;32m<ipython-input-29-dcf2ae3e2a69>\u001b[0m in \u001b[0;36msubmit\u001b[0;34m(results, url)\u001b[0m\n\u001b[1;32m      8\u001b[0m     \u001b[0mres\u001b[0m \u001b[0;34m=\u001b[0m \u001b[0mjson\u001b[0m\u001b[0;34m.\u001b[0m\u001b[0mdumps\u001b[0m\u001b[0;34m(\u001b[0m\u001b[0mresults\u001b[0m\u001b[0;34m)\u001b[0m\u001b[0;34m\u001b[0m\u001b[0;34m\u001b[0m\u001b[0m\n\u001b[1;32m      9\u001b[0m     \u001b[0;31m# print(res)\u001b[0m\u001b[0;34m\u001b[0m\u001b[0;34m\u001b[0m\u001b[0m\n\u001b[0;32m---> 10\u001b[0;31m     \u001b[0mresponse\u001b[0m \u001b[0;34m=\u001b[0m \u001b[0mrequests\u001b[0m\u001b[0;34m.\u001b[0m\u001b[0mpost\u001b[0m\u001b[0;34m(\u001b[0m\u001b[0murl\u001b[0m\u001b[0;34m,\u001b[0m \u001b[0mres\u001b[0m\u001b[0;34m)\u001b[0m\u001b[0;34m\u001b[0m\u001b[0;34m\u001b[0m\u001b[0m\n\u001b[0m\u001b[1;32m     11\u001b[0m     \u001b[0;32mtry\u001b[0m\u001b[0;34m:\u001b[0m\u001b[0;34m\u001b[0m\u001b[0;34m\u001b[0m\u001b[0m\n\u001b[1;32m     12\u001b[0m         \u001b[0mresult\u001b[0m \u001b[0;34m=\u001b[0m \u001b[0mjson\u001b[0m\u001b[0;34m.\u001b[0m\u001b[0mloads\u001b[0m\u001b[0;34m(\u001b[0m\u001b[0mresponse\u001b[0m\u001b[0;34m.\u001b[0m\u001b[0mtext\u001b[0m\u001b[0;34m)\u001b[0m\u001b[0;34m\u001b[0m\u001b[0;34m\u001b[0m\u001b[0m\n",
            "\u001b[0;32m/usr/local/lib/python3.9/dist-packages/requests/api.py\u001b[0m in \u001b[0;36mpost\u001b[0;34m(url, data, json, **kwargs)\u001b[0m\n\u001b[1;32m    115\u001b[0m     \"\"\"\n\u001b[1;32m    116\u001b[0m \u001b[0;34m\u001b[0m\u001b[0m\n\u001b[0;32m--> 117\u001b[0;31m     \u001b[0;32mreturn\u001b[0m \u001b[0mrequest\u001b[0m\u001b[0;34m(\u001b[0m\u001b[0;34m'post'\u001b[0m\u001b[0;34m,\u001b[0m \u001b[0murl\u001b[0m\u001b[0;34m,\u001b[0m \u001b[0mdata\u001b[0m\u001b[0;34m=\u001b[0m\u001b[0mdata\u001b[0m\u001b[0;34m,\u001b[0m \u001b[0mjson\u001b[0m\u001b[0;34m=\u001b[0m\u001b[0mjson\u001b[0m\u001b[0;34m,\u001b[0m \u001b[0;34m**\u001b[0m\u001b[0mkwargs\u001b[0m\u001b[0;34m)\u001b[0m\u001b[0;34m\u001b[0m\u001b[0;34m\u001b[0m\u001b[0m\n\u001b[0m\u001b[1;32m    118\u001b[0m \u001b[0;34m\u001b[0m\u001b[0m\n\u001b[1;32m    119\u001b[0m \u001b[0;34m\u001b[0m\u001b[0m\n",
            "\u001b[0;32m/usr/local/lib/python3.9/dist-packages/requests/api.py\u001b[0m in \u001b[0;36mrequest\u001b[0;34m(method, url, **kwargs)\u001b[0m\n\u001b[1;32m     59\u001b[0m     \u001b[0;31m# cases, and look like a memory leak in others.\u001b[0m\u001b[0;34m\u001b[0m\u001b[0;34m\u001b[0m\u001b[0m\n\u001b[1;32m     60\u001b[0m     \u001b[0;32mwith\u001b[0m \u001b[0msessions\u001b[0m\u001b[0;34m.\u001b[0m\u001b[0mSession\u001b[0m\u001b[0;34m(\u001b[0m\u001b[0;34m)\u001b[0m \u001b[0;32mas\u001b[0m \u001b[0msession\u001b[0m\u001b[0;34m:\u001b[0m\u001b[0;34m\u001b[0m\u001b[0;34m\u001b[0m\u001b[0m\n\u001b[0;32m---> 61\u001b[0;31m         \u001b[0;32mreturn\u001b[0m \u001b[0msession\u001b[0m\u001b[0;34m.\u001b[0m\u001b[0mrequest\u001b[0m\u001b[0;34m(\u001b[0m\u001b[0mmethod\u001b[0m\u001b[0;34m=\u001b[0m\u001b[0mmethod\u001b[0m\u001b[0;34m,\u001b[0m \u001b[0murl\u001b[0m\u001b[0;34m=\u001b[0m\u001b[0murl\u001b[0m\u001b[0;34m,\u001b[0m \u001b[0;34m**\u001b[0m\u001b[0mkwargs\u001b[0m\u001b[0;34m)\u001b[0m\u001b[0;34m\u001b[0m\u001b[0;34m\u001b[0m\u001b[0m\n\u001b[0m\u001b[1;32m     62\u001b[0m \u001b[0;34m\u001b[0m\u001b[0m\n\u001b[1;32m     63\u001b[0m \u001b[0;34m\u001b[0m\u001b[0m\n",
            "\u001b[0;32m/usr/local/lib/python3.9/dist-packages/requests/sessions.py\u001b[0m in \u001b[0;36mrequest\u001b[0;34m(self, method, url, params, data, headers, cookies, files, auth, timeout, allow_redirects, proxies, hooks, stream, verify, cert, json)\u001b[0m\n\u001b[1;32m    527\u001b[0m         }\n\u001b[1;32m    528\u001b[0m         \u001b[0msend_kwargs\u001b[0m\u001b[0;34m.\u001b[0m\u001b[0mupdate\u001b[0m\u001b[0;34m(\u001b[0m\u001b[0msettings\u001b[0m\u001b[0;34m)\u001b[0m\u001b[0;34m\u001b[0m\u001b[0;34m\u001b[0m\u001b[0m\n\u001b[0;32m--> 529\u001b[0;31m         \u001b[0mresp\u001b[0m \u001b[0;34m=\u001b[0m \u001b[0mself\u001b[0m\u001b[0;34m.\u001b[0m\u001b[0msend\u001b[0m\u001b[0;34m(\u001b[0m\u001b[0mprep\u001b[0m\u001b[0;34m,\u001b[0m \u001b[0;34m**\u001b[0m\u001b[0msend_kwargs\u001b[0m\u001b[0;34m)\u001b[0m\u001b[0;34m\u001b[0m\u001b[0;34m\u001b[0m\u001b[0m\n\u001b[0m\u001b[1;32m    530\u001b[0m \u001b[0;34m\u001b[0m\u001b[0m\n\u001b[1;32m    531\u001b[0m         \u001b[0;32mreturn\u001b[0m \u001b[0mresp\u001b[0m\u001b[0;34m\u001b[0m\u001b[0;34m\u001b[0m\u001b[0m\n",
            "\u001b[0;32m/usr/local/lib/python3.9/dist-packages/requests/sessions.py\u001b[0m in \u001b[0;36msend\u001b[0;34m(self, request, **kwargs)\u001b[0m\n\u001b[1;32m    643\u001b[0m \u001b[0;34m\u001b[0m\u001b[0m\n\u001b[1;32m    644\u001b[0m         \u001b[0;31m# Send the request\u001b[0m\u001b[0;34m\u001b[0m\u001b[0;34m\u001b[0m\u001b[0m\n\u001b[0;32m--> 645\u001b[0;31m         \u001b[0mr\u001b[0m \u001b[0;34m=\u001b[0m \u001b[0madapter\u001b[0m\u001b[0;34m.\u001b[0m\u001b[0msend\u001b[0m\u001b[0;34m(\u001b[0m\u001b[0mrequest\u001b[0m\u001b[0;34m,\u001b[0m \u001b[0;34m**\u001b[0m\u001b[0mkwargs\u001b[0m\u001b[0;34m)\u001b[0m\u001b[0;34m\u001b[0m\u001b[0;34m\u001b[0m\u001b[0m\n\u001b[0m\u001b[1;32m    646\u001b[0m \u001b[0;34m\u001b[0m\u001b[0m\n\u001b[1;32m    647\u001b[0m         \u001b[0;31m# Total elapsed time of the request (approximately)\u001b[0m\u001b[0;34m\u001b[0m\u001b[0;34m\u001b[0m\u001b[0m\n",
            "\u001b[0;32m/usr/local/lib/python3.9/dist-packages/requests/adapters.py\u001b[0m in \u001b[0;36msend\u001b[0;34m(self, request, stream, timeout, verify, cert, proxies)\u001b[0m\n\u001b[1;32m    517\u001b[0m                 \u001b[0;32mraise\u001b[0m \u001b[0mSSLError\u001b[0m\u001b[0;34m(\u001b[0m\u001b[0me\u001b[0m\u001b[0;34m,\u001b[0m \u001b[0mrequest\u001b[0m\u001b[0;34m=\u001b[0m\u001b[0mrequest\u001b[0m\u001b[0;34m)\u001b[0m\u001b[0;34m\u001b[0m\u001b[0;34m\u001b[0m\u001b[0m\n\u001b[1;32m    518\u001b[0m \u001b[0;34m\u001b[0m\u001b[0m\n\u001b[0;32m--> 519\u001b[0;31m             \u001b[0;32mraise\u001b[0m \u001b[0mConnectionError\u001b[0m\u001b[0;34m(\u001b[0m\u001b[0me\u001b[0m\u001b[0;34m,\u001b[0m \u001b[0mrequest\u001b[0m\u001b[0;34m=\u001b[0m\u001b[0mrequest\u001b[0m\u001b[0;34m)\u001b[0m\u001b[0;34m\u001b[0m\u001b[0;34m\u001b[0m\u001b[0m\n\u001b[0m\u001b[1;32m    520\u001b[0m \u001b[0;34m\u001b[0m\u001b[0m\n\u001b[1;32m    521\u001b[0m         \u001b[0;32mexcept\u001b[0m \u001b[0mClosedPoolError\u001b[0m \u001b[0;32mas\u001b[0m \u001b[0me\u001b[0m\u001b[0;34m:\u001b[0m\u001b[0;34m\u001b[0m\u001b[0;34m\u001b[0m\u001b[0m\n",
            "\u001b[0;31mConnectionError\u001b[0m: HTTPConnectionPool(host='coruscant.disi.unitn.it', port=3001): Max retries exceeded with url: /results/ (Caused by NewConnectionError('<urllib3.connection.HTTPConnection object at 0x7f15880bed00>: Failed to establish a new connection: [Errno -2] Name or service not known'))"
          ]
        }
      ]
    }
  ]
}